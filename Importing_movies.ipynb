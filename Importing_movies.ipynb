{
  "nbformat": 4,
  "nbformat_minor": 0,
  "metadata": {
    "colab": {
      "name": "Importing movies.ipynb",
      "provenance": [],
      "authorship_tag": "ABX9TyPRlyPX6bwA3WhmiUTeapTr",
      "include_colab_link": true
    },
    "kernelspec": {
      "display_name": "Python 3",
      "name": "python3"
    }
  },
  "cells": [
    {
      "cell_type": "markdown",
      "metadata": {
        "id": "view-in-github",
        "colab_type": "text"
      },
      "source": [
        "<a href=\"https://colab.research.google.com/github/atotev/ca683-2021-dara/blob/main/Importing_movies.ipynb\" target=\"_parent\"><img src=\"https://colab.research.google.com/assets/colab-badge.svg\" alt=\"Open In Colab\"/></a>"
      ]
    },
    {
      "cell_type": "code",
      "metadata": {
        "colab": {
          "base_uri": "https://localhost:8080/"
        },
        "id": "T2PxXvgb0D4F",
        "outputId": "10a3eb99-f4d2-4316-f8f5-0739970321e9"
      },
      "source": [
        "pip install requests"
      ],
      "execution_count": 14,
      "outputs": [
        {
          "output_type": "stream",
          "text": [
            "Requirement already satisfied: requests in /usr/local/lib/python3.7/dist-packages (2.23.0)\n",
            "Requirement already satisfied: chardet<4,>=3.0.2 in /usr/local/lib/python3.7/dist-packages (from requests) (3.0.4)\n",
            "Requirement already satisfied: urllib3!=1.25.0,!=1.25.1,<1.26,>=1.21.1 in /usr/local/lib/python3.7/dist-packages (from requests) (1.24.3)\n",
            "Requirement already satisfied: certifi>=2017.4.17 in /usr/local/lib/python3.7/dist-packages (from requests) (2020.12.5)\n",
            "Requirement already satisfied: idna<3,>=2.5 in /usr/local/lib/python3.7/dist-packages (from requests) (2.10)\n"
          ],
          "name": "stdout"
        }
      ]
    },
    {
      "cell_type": "code",
      "metadata": {
        "id": "IlFPjIPD0RpX"
      },
      "source": [
        "# Code to read csv file into Colaboratory:\n",
        "!pip install -U -q PyDrive\n",
        "from pydrive.auth import GoogleAuth\n",
        "from pydrive.drive import GoogleDrive\n",
        "from google.colab import auth\n",
        "from oauth2client.client import GoogleCredentials\n",
        "# Authenticate and create the PyDrive client.\n",
        "auth.authenticate_user()\n",
        "gauth = GoogleAuth()\n",
        "gauth.credentials = GoogleCredentials.get_application_default()\n",
        "drive = GoogleDrive(gauth)"
      ],
      "execution_count": 15,
      "outputs": []
    },
    {
      "cell_type": "code",
      "metadata": {
        "id": "5OAuIT0s0uYE"
      },
      "source": [
        "import pandas as pd\n",
        "import numpy as np\n",
        "import matplotlib.pyplot as plt\n",
        "from sklearn import preprocessing\n",
        "import seaborn as sns\n",
        "from statsmodels.compat import lzip\n",
        "import statsmodels.formula.api as sm\n",
        "import statsmodels.stats.stattools as st\n",
        "import statsmodels.stats.api as sms\n",
        "from sklearn.model_selection import train_test_split\n",
        "from sklearn.linear_model import LogisticRegression\n",
        "from sklearn.linear_model import LinearRegression\n",
        "from sklearn.metrics import r2_score"
      ],
      "execution_count": 16,
      "outputs": []
    },
    {
      "cell_type": "code",
      "metadata": {
        "id": "EO0axlR60wPa"
      },
      "source": [
        "link ='https://drive.google.com/file/d/1wKZ9-kpdgOUfTt7jGLG1DVuNLdCWvBCz/view?usp=sharing'"
      ],
      "execution_count": 17,
      "outputs": []
    },
    {
      "cell_type": "code",
      "metadata": {
        "colab": {
          "base_uri": "https://localhost:8080/"
        },
        "id": "kTvSqB5N071x",
        "outputId": "22e39ed9-b079-4fc2-aaa8-d56df18c1bf9"
      },
      "source": [
        "fluff, id = link.split('=')\n",
        "print (id) # Verify that you have everything after '='"
      ],
      "execution_count": 18,
      "outputs": [
        {
          "output_type": "stream",
          "text": [
            "sharing\n"
          ],
          "name": "stdout"
        }
      ]
    },
    {
      "cell_type": "code",
      "metadata": {
        "id": "NkuqmaCv0_tF"
      },
      "source": [
        "downloaded = drive.CreateFile({'id':'1wKZ9-kpdgOUfTt7jGLG1DVuNLdCWvBCz'}) \n",
        "\n",
        "fileMovies = 'movie_titles.csv'\n",
        "\n",
        "downloaded.GetContentFile(fileMovies)  \n",
        "\n",
        "movies_netflix = pd.read_csv(fileMovies, encoding = \"ISO-8859-1\", header = None, names = ['movie', 'year', 'title', 'id_moviedb',\t'popularity',\t'genre_ids'\t,'vote_average',\t'media_type'])\n",
        "\n",
        "#total of 17770\n",
        "\n"
      ],
      "execution_count": 19,
      "outputs": []
    },
    {
      "cell_type": "code",
      "metadata": {
        "colab": {
          "base_uri": "https://localhost:8080/"
        },
        "id": "U1XD8I00c6rm",
        "outputId": "113dd027-4ab8-43ab-9c1f-6d38a6810251"
      },
      "source": [
        "from google.colab import drive\n",
        "drive.mount('/content/gdrive')"
      ],
      "execution_count": 20,
      "outputs": [
        {
          "output_type": "stream",
          "text": [
            "Drive already mounted at /content/gdrive; to attempt to forcibly remount, call drive.mount(\"/content/gdrive\", force_remount=True).\n"
          ],
          "name": "stdout"
        }
      ]
    },
    {
      "cell_type": "code",
      "metadata": {
        "id": "LQ3lJuCRLBG5"
      },
      "source": [
        "def getFirstPartMovieName(movie):\n",
        "  if movie.find(\":\") != -1:\n",
        "    return movie[0:movie.find(\":\")]\n",
        "  if movie.find(\"(\") != -1:\n",
        "    return movie[0:movie.find(\"(\")]\n",
        "  if movie.find(\"/\") != -1:\n",
        "    return movie[0:movie.find(\"/\")]\n",
        "  return movie\n",
        "\n",
        "def period_is_ok(release_date, year):\n",
        "    if (len(release_date)>=4 and len(year) >= 4):\n",
        "      release_date_int = int(float(release_date[0:4]))\n",
        "      year_int = int(float(year[0:4]))\n",
        "      difference = (release_date_int - year_int)\n",
        "      if (difference >= -2 and difference <= 2 ):\n",
        "        return True\n",
        "    return False"
      ],
      "execution_count": 21,
      "outputs": []
    },
    {
      "cell_type": "code",
      "metadata": {
        "colab": {
          "base_uri": "https://localhost:8080/",
          "height": 1000
        },
        "id": "1x2Y9uV315j0",
        "outputId": "9540a975-c926-4b47-dba8-5a92daeb6ec1"
      },
      "source": [
        "from google.colab import files\n",
        "import requests\n",
        "from time import sleep\n",
        "count = 0\n",
        "\n",
        "for ind in movies_netflix[0:17769].index: \n",
        "    count = count + 1\n",
        "\n",
        "    movie_title = movies_netflix['title'][ind]\n",
        "    year = (str(movies_netflix['year'][ind])[0:4])\n",
        "\n",
        "    movie_title_part = getFirstPartMovieName(movie_title)\n",
        "\n",
        "    url = \"https://api.themoviedb.org/3/search/multi?api_key=defc104635dae32057dd64f95aaf4e0d&language=en-US&query='\" + str(movie_title_part) +\"'&year='\" + year + \"'\"\n",
        "    response = requests.get(url)\n",
        "    results = response.json()\n",
        "\n",
        "    movie = {}\n",
        "\n",
        "    print(url)\n",
        "\n",
        "    if (len(results[\"results\"])) >= 1:\n",
        "      for item in results[\"results\"]:\n",
        "        if item[\"media_type\"] != \"person\":\n",
        "          if \"name\" in item:            \n",
        "            if item[\"name\"] == movie_title:\n",
        "              movie = item\n",
        "              break\n",
        "          if \"title\" in item: \n",
        "            if item[\"title\"] == movie_title:\n",
        "              movie = item\n",
        "              break\n",
        "          if \"original_title\" in item:             \n",
        "            if item[\"original_title\"] == movie_title:\n",
        "              movie = item\n",
        "              break\n",
        "          if \"release_date\" in item:                   \n",
        "            if period_is_ok(item[\"release_date\"], year):\n",
        "              movie = item\n",
        "              break\n",
        "          if \"first_air_date\" in item:    \n",
        "            if period_is_ok(item[\"first_air_date\"], year):\n",
        "              movie = item\n",
        "              break\n",
        "             \n",
        "    elif (len(results[\"results\"])) == 1:\n",
        "      movie = results[\"results\"][0]\n",
        "        \n",
        "    if movie:\n",
        "      movies_netflix['id_moviedb'][ind] = movie[\"id\"]\n",
        "      if \"genre_ids\" in movie:\n",
        "        movies_netflix['genre_ids'][ind] = movie[\"genre_ids\"]\n",
        "      if \"vote_average\" in movie:\n",
        "        movies_netflix['vote_average'][ind] = movie[\"vote_average\"]\n",
        "      if \"media_type\" in movie:\n",
        "        movies_netflix['media_type'][ind] = movie[\"media_type\"]\n",
        "      if \"popularity\" in movie:\n",
        "        movies_netflix['popularity'][ind] = movie[\"popularity\"]\n",
        "      #if \"release_date\" in movie:\n",
        "        #movies_netflix['release_date'][ind] = movie[\"release_date\"]\n",
        "      print(movie_title + \" movie found\")\n",
        "    else:\n",
        "      print(movie_title + \" not found\")\n",
        "\n",
        "    if count == 10:\n",
        "      movies_netflix.to_csv('movie_titles.csv', header=True)\n",
        "      !cp movie_titles.csv \"gdrive/My Drive/\"\n",
        "      count = 0\n",
        "      sleep(1.5)\n"
      ],
      "execution_count": 22,
      "outputs": [
        {
          "output_type": "stream",
          "text": [
            "https://api.themoviedb.org/3/search/multi?api_key=defc104635dae32057dd64f95aaf4e0d&language=en-US&query='Dinosaur Planet'&year='2003'\n",
            "Dinosaur Planet movie found\n",
            "https://api.themoviedb.org/3/search/multi?api_key=defc104635dae32057dd64f95aaf4e0d&language=en-US&query='Isle of Man TT 2004 Review'&year='2004'\n",
            "Isle of Man TT 2004 Review not found\n",
            "https://api.themoviedb.org/3/search/multi?api_key=defc104635dae32057dd64f95aaf4e0d&language=en-US&query='Character'&year='1997'\n",
            "Character movie found\n",
            "https://api.themoviedb.org/3/search/multi?api_key=defc104635dae32057dd64f95aaf4e0d&language=en-US&query='Paula Abdul's Get Up & Dance'&year='1994'\n",
            "Paula Abdul's Get Up & Dance movie found\n",
            "https://api.themoviedb.org/3/search/multi?api_key=defc104635dae32057dd64f95aaf4e0d&language=en-US&query='The Rise and Fall of ECW'&year='2004'\n",
            "The Rise and Fall of ECW movie found\n",
            "https://api.themoviedb.org/3/search/multi?api_key=defc104635dae32057dd64f95aaf4e0d&language=en-US&query='Sick'&year='1997'\n",
            "Sick movie found\n",
            "https://api.themoviedb.org/3/search/multi?api_key=defc104635dae32057dd64f95aaf4e0d&language=en-US&query='8 Man'&year='1992'\n",
            "8 Man movie found\n",
            "https://api.themoviedb.org/3/search/multi?api_key=defc104635dae32057dd64f95aaf4e0d&language=en-US&query='What the #$*! Do We Know!?'&year='2004'\n",
            "What the #$*! Do We Know!? movie found\n",
            "https://api.themoviedb.org/3/search/multi?api_key=defc104635dae32057dd64f95aaf4e0d&language=en-US&query='Class of Nuke 'Em High 2'&year='1991'\n",
            "Class of Nuke 'Em High 2 movie found\n",
            "https://api.themoviedb.org/3/search/multi?api_key=defc104635dae32057dd64f95aaf4e0d&language=en-US&query='Fighter'&year='2001'\n",
            "Fighter movie found\n",
            "https://api.themoviedb.org/3/search/multi?api_key=defc104635dae32057dd64f95aaf4e0d&language=en-US&query='Full Frame'&year='1999'\n",
            "Full Frame: Documentary Shorts not found\n",
            "https://api.themoviedb.org/3/search/multi?api_key=defc104635dae32057dd64f95aaf4e0d&language=en-US&query='My Favorite Brunette'&year='1947'\n",
            "My Favorite Brunette movie found\n",
            "https://api.themoviedb.org/3/search/multi?api_key=defc104635dae32057dd64f95aaf4e0d&language=en-US&query='Lord of the Rings'&year='2003'\n",
            "Lord of the Rings: The Return of the King: Extended Edition: Bonus Material movie found\n",
            "https://api.themoviedb.org/3/search/multi?api_key=defc104635dae32057dd64f95aaf4e0d&language=en-US&query='Nature'&year='1982'\n",
            "Nature: Antarctica movie found\n",
            "https://api.themoviedb.org/3/search/multi?api_key=defc104635dae32057dd64f95aaf4e0d&language=en-US&query='Neil Diamond'&year='1988'\n",
            "Neil Diamond: Greatest Hits Live movie found\n",
            "https://api.themoviedb.org/3/search/multi?api_key=defc104635dae32057dd64f95aaf4e0d&language=en-US&query='Screamers'&year='1996'\n",
            "Screamers movie found\n",
            "https://api.themoviedb.org/3/search/multi?api_key=defc104635dae32057dd64f95aaf4e0d&language=en-US&query='7 Seconds'&year='2005'\n",
            "7 Seconds movie found\n",
            "https://api.themoviedb.org/3/search/multi?api_key=defc104635dae32057dd64f95aaf4e0d&language=en-US&query='Immortal Beloved'&year='1994'\n",
            "Immortal Beloved movie found\n",
            "https://api.themoviedb.org/3/search/multi?api_key=defc104635dae32057dd64f95aaf4e0d&language=en-US&query='By Dawn's Early Light'&year='2000'\n",
            "By Dawn's Early Light movie found\n",
            "https://api.themoviedb.org/3/search/multi?api_key=defc104635dae32057dd64f95aaf4e0d&language=en-US&query='Seeta Aur Geeta'&year='1972'\n",
            "Seeta Aur Geeta movie found\n",
            "https://api.themoviedb.org/3/search/multi?api_key=defc104635dae32057dd64f95aaf4e0d&language=en-US&query='Strange Relations'&year='2002'\n",
            "Strange Relations movie found\n",
            "https://api.themoviedb.org/3/search/multi?api_key=defc104635dae32057dd64f95aaf4e0d&language=en-US&query='Chump Change'&year='2000'\n",
            "Chump Change movie found\n",
            "https://api.themoviedb.org/3/search/multi?api_key=defc104635dae32057dd64f95aaf4e0d&language=en-US&query='Clifford'&year='2001'\n",
            "Clifford: Clifford Saves the Day! / Clifford's Fluffiest Friend Cleo movie found\n",
            "https://api.themoviedb.org/3/search/multi?api_key=defc104635dae32057dd64f95aaf4e0d&language=en-US&query='My Bloody Valentine'&year='1981'\n",
            "My Bloody Valentine movie found\n",
            "https://api.themoviedb.org/3/search/multi?api_key=defc104635dae32057dd64f95aaf4e0d&language=en-US&query='Inspector Morse 31'&year='1997'\n",
            "Inspector Morse 31: Death Is Now My Neighbour not found\n",
            "https://api.themoviedb.org/3/search/multi?api_key=defc104635dae32057dd64f95aaf4e0d&language=en-US&query='Never Die Alone'&year='2004'\n",
            "Never Die Alone movie found\n",
            "https://api.themoviedb.org/3/search/multi?api_key=defc104635dae32057dd64f95aaf4e0d&language=en-US&query='Sesame Street'&year='1962'\n",
            "Sesame Street: Elmo's World: The Street We Live On not found\n",
            "https://api.themoviedb.org/3/search/multi?api_key=defc104635dae32057dd64f95aaf4e0d&language=en-US&query='Lilo and Stitch'&year='2002'\n",
            "Lilo and Stitch movie found\n",
            "https://api.themoviedb.org/3/search/multi?api_key=defc104635dae32057dd64f95aaf4e0d&language=en-US&query='Boycott'&year='2001'\n",
            "Boycott movie found\n",
            "https://api.themoviedb.org/3/search/multi?api_key=defc104635dae32057dd64f95aaf4e0d&language=en-US&query='Something's Gotta Give'&year='2003'\n",
            "Something's Gotta Give movie found\n",
            "https://api.themoviedb.org/3/search/multi?api_key=defc104635dae32057dd64f95aaf4e0d&language=en-US&query='Classic Albums'&year='1999'\n",
            "Classic Albums: Meat Loaf: Bat Out of Hell movie found\n",
            "https://api.themoviedb.org/3/search/multi?api_key=defc104635dae32057dd64f95aaf4e0d&language=en-US&query='ABC Primetime'&year='2004'\n",
            "ABC Primetime: Mel Gibson's The Passion of the Christ not found\n",
            "https://api.themoviedb.org/3/search/multi?api_key=defc104635dae32057dd64f95aaf4e0d&language=en-US&query='Aqua Teen Hunger Force'&year='2000'\n",
            "Aqua Teen Hunger Force: Vol. 1 movie found\n",
            "https://api.themoviedb.org/3/search/multi?api_key=defc104635dae32057dd64f95aaf4e0d&language=en-US&query='Ashtanga Yoga'&year='2003'\n",
            "Ashtanga Yoga: Beginner's Practice with Nicki Doane movie found\n",
            "https://api.themoviedb.org/3/search/multi?api_key=defc104635dae32057dd64f95aaf4e0d&language=en-US&query='Ferngully 2'&year='2000'\n",
            "Ferngully 2: The Magical Rescue movie found\n",
            "https://api.themoviedb.org/3/search/multi?api_key=defc104635dae32057dd64f95aaf4e0d&language=en-US&query='Lady Chatterley'&year='1992'\n",
            "Lady Chatterley movie found\n",
            "https://api.themoviedb.org/3/search/multi?api_key=defc104635dae32057dd64f95aaf4e0d&language=en-US&query='Zatoichi's Conspiracy'&year='1973'\n",
            "Zatoichi's Conspiracy movie found\n",
            "https://api.themoviedb.org/3/search/multi?api_key=defc104635dae32057dd64f95aaf4e0d&language=en-US&query='Daydream Obsession'&year='2003'\n",
            "Daydream Obsession movie found\n",
            "https://api.themoviedb.org/3/search/multi?api_key=defc104635dae32057dd64f95aaf4e0d&language=en-US&query='Love Reinvented'&year='2000'\n",
            "Love Reinvented movie found\n",
            "https://api.themoviedb.org/3/search/multi?api_key=defc104635dae32057dd64f95aaf4e0d&language=en-US&query='Pitcher and the Pin-Up'&year='2004'\n",
            "Pitcher and the Pin-Up movie found\n",
            "https://api.themoviedb.org/3/search/multi?api_key=defc104635dae32057dd64f95aaf4e0d&language=en-US&query='Horror Vision'&year='2000'\n",
            "Horror Vision not found\n",
            "https://api.themoviedb.org/3/search/multi?api_key=defc104635dae32057dd64f95aaf4e0d&language=en-US&query='Searching for Paradise'&year='2002'\n",
            "Searching for Paradise movie found\n",
            "https://api.themoviedb.org/3/search/multi?api_key=defc104635dae32057dd64f95aaf4e0d&language=en-US&query='Silent Service'&year='2000'\n",
            "Silent Service movie found\n",
            "https://api.themoviedb.org/3/search/multi?api_key=defc104635dae32057dd64f95aaf4e0d&language=en-US&query='Spitfire Grill'&year='1996'\n",
            "Spitfire Grill movie found\n",
            "https://api.themoviedb.org/3/search/multi?api_key=defc104635dae32057dd64f95aaf4e0d&language=en-US&query='The Love Letter'&year='1999'\n",
            "The Love Letter movie found\n",
            "https://api.themoviedb.org/3/search/multi?api_key=defc104635dae32057dd64f95aaf4e0d&language=en-US&query='Rudolph the Red-Nosed Reindeer'&year='1964'\n",
            "Rudolph the Red-Nosed Reindeer movie found\n",
            "https://api.themoviedb.org/3/search/multi?api_key=defc104635dae32057dd64f95aaf4e0d&language=en-US&query='The Bad and the Beautiful'&year='1952'\n",
            "The Bad and the Beautiful movie found\n",
            "https://api.themoviedb.org/3/search/multi?api_key=defc104635dae32057dd64f95aaf4e0d&language=en-US&query='Justice League'&year='2001'\n",
            "Justice League movie found\n",
            "https://api.themoviedb.org/3/search/multi?api_key=defc104635dae32057dd64f95aaf4e0d&language=en-US&query='Devo'&year='2003'\n",
            "Devo: The Complete Truth About De-evolution movie found\n",
            "https://api.themoviedb.org/3/search/multi?api_key=defc104635dae32057dd64f95aaf4e0d&language=en-US&query='A Yank in the R.A.F.'&year='1941'\n",
            "A Yank in the R.A.F. movie found\n",
            "https://api.themoviedb.org/3/search/multi?api_key=defc104635dae32057dd64f95aaf4e0d&language=en-US&query='Jonah'&year='2002'\n",
            "Jonah: A VeggieTales Movie: Bonus Material movie found\n",
            "https://api.themoviedb.org/3/search/multi?api_key=defc104635dae32057dd64f95aaf4e0d&language=en-US&query='The Weather Underground'&year='2002'\n",
            "The Weather Underground movie found\n",
            "https://api.themoviedb.org/3/search/multi?api_key=defc104635dae32057dd64f95aaf4e0d&language=en-US&query='The Bonesetter'&year='2003'\n",
            "The Bonesetter movie found\n",
            "https://api.themoviedb.org/3/search/multi?api_key=defc104635dae32057dd64f95aaf4e0d&language=en-US&query='We're Not Married'&year='1952'\n",
            "We're Not Married movie found\n",
            "https://api.themoviedb.org/3/search/multi?api_key=defc104635dae32057dd64f95aaf4e0d&language=en-US&query='Jade'&year='1995'\n",
            "Jade movie found\n",
            "https://api.themoviedb.org/3/search/multi?api_key=defc104635dae32057dd64f95aaf4e0d&language=en-US&query='Carandiru'&year='2004'\n",
            "Carandiru movie found\n",
            "https://api.themoviedb.org/3/search/multi?api_key=defc104635dae32057dd64f95aaf4e0d&language=en-US&query='Richard III'&year='1995'\n",
            "Richard III movie found\n",
            "https://api.themoviedb.org/3/search/multi?api_key=defc104635dae32057dd64f95aaf4e0d&language=en-US&query='Dragonheart'&year='1996'\n",
            "Dragonheart movie found\n",
            "https://api.themoviedb.org/3/search/multi?api_key=defc104635dae32057dd64f95aaf4e0d&language=en-US&query='Sex and the Beauties'&year='2003'\n",
            "Sex and the Beauties movie found\n",
            "https://api.themoviedb.org/3/search/multi?api_key=defc104635dae32057dd64f95aaf4e0d&language=en-US&query='The Libertine'&year='1969'\n",
            "The Libertine movie found\n",
            "https://api.themoviedb.org/3/search/multi?api_key=defc104635dae32057dd64f95aaf4e0d&language=en-US&query='Ricky Martin'&year='1999'\n",
            "Ricky Martin: One Night Only movie found\n",
            "https://api.themoviedb.org/3/search/multi?api_key=defc104635dae32057dd64f95aaf4e0d&language=en-US&query='Ken Burns' America'&year='1991'\n",
            "Ken Burns' America: Empire of the Air not found\n",
            "https://api.themoviedb.org/3/search/multi?api_key=defc104635dae32057dd64f95aaf4e0d&language=en-US&query='Crash Dive'&year='1943'\n",
            "Crash Dive movie found\n",
            "https://api.themoviedb.org/3/search/multi?api_key=defc104635dae32057dd64f95aaf4e0d&language=en-US&query='Outside the Law'&year='2001'\n",
            "Outside the Law movie found\n",
            "https://api.themoviedb.org/3/search/multi?api_key=defc104635dae32057dd64f95aaf4e0d&language=en-US&query='Lost in the Pershing Point Hotel'&year='2000'\n",
            "Lost in the Pershing Point Hotel movie found\n",
            "https://api.themoviedb.org/3/search/multi?api_key=defc104635dae32057dd64f95aaf4e0d&language=en-US&query='Barbarian Queen 2'&year='1989'\n",
            "Barbarian Queen 2 not found\n",
            "https://api.themoviedb.org/3/search/multi?api_key=defc104635dae32057dd64f95aaf4e0d&language=en-US&query='Vampire Journals'&year='1997'\n",
            "Vampire Journals movie found\n",
            "https://api.themoviedb.org/3/search/multi?api_key=defc104635dae32057dd64f95aaf4e0d&language=en-US&query='Invader Zim'&year='2004'\n",
            "Invader Zim not found\n",
            "https://api.themoviedb.org/3/search/multi?api_key=defc104635dae32057dd64f95aaf4e0d&language=en-US&query='WWE'&year='2003'\n",
            "WWE: Armageddon 2003 movie found\n",
            "https://api.themoviedb.org/3/search/multi?api_key=defc104635dae32057dd64f95aaf4e0d&language=en-US&query='Tai Chi'&year='1999'\n",
            "Tai Chi: The 24 Forms movie found\n",
            "https://api.themoviedb.org/3/search/multi?api_key=defc104635dae32057dd64f95aaf4e0d&language=en-US&query='Maya Lin'&year='1995'\n",
            "Maya Lin: A Strong Clear Vision movie found\n",
            "https://api.themoviedb.org/3/search/multi?api_key=defc104635dae32057dd64f95aaf4e0d&language=en-US&query='At Home Among Strangers'&year='1974'\n",
            "At Home Among Strangers movie found\n",
            "https://api.themoviedb.org/3/search/multi?api_key=defc104635dae32057dd64f95aaf4e0d&language=en-US&query='Davy Crockett'&year='1954'\n",
            "Davy Crockett: 50th Anniversary Double Feature movie found\n",
            "https://api.themoviedb.org/3/search/multi?api_key=defc104635dae32057dd64f95aaf4e0d&language=en-US&query='6ixtynin9'&year='1999'\n",
            "6ixtynin9 movie found\n",
            "https://api.themoviedb.org/3/search/multi?api_key=defc104635dae32057dd64f95aaf4e0d&language=en-US&query='Grind'&year='1997'\n",
            "Grind movie found\n",
            "https://api.themoviedb.org/3/search/multi?api_key=defc104635dae32057dd64f95aaf4e0d&language=en-US&query='I Love Lucy'&year='1952'\n",
            "I Love Lucy: Season 2 movie found\n",
            "https://api.themoviedb.org/3/search/multi?api_key=defc104635dae32057dd64f95aaf4e0d&language=en-US&query='Congo'&year='1995'\n",
            "Congo movie found\n",
            "https://api.themoviedb.org/3/search/multi?api_key=defc104635dae32057dd64f95aaf4e0d&language=en-US&query='Jingle All the Way'&year='1996'\n",
            "Jingle All the Way movie found\n",
            "https://api.themoviedb.org/3/search/multi?api_key=defc104635dae32057dd64f95aaf4e0d&language=en-US&query='The Killing'&year='1956'\n",
            "The Killing movie found\n",
            "https://api.themoviedb.org/3/search/multi?api_key=defc104635dae32057dd64f95aaf4e0d&language=en-US&query='Winter Kills'&year='1979'\n",
            "Winter Kills movie found\n",
            "https://api.themoviedb.org/3/search/multi?api_key=defc104635dae32057dd64f95aaf4e0d&language=en-US&query='Antarctica'&year='1991'\n",
            "Antarctica: IMAX movie found\n",
            "https://api.themoviedb.org/3/search/multi?api_key=defc104635dae32057dd64f95aaf4e0d&language=en-US&query='The Frogmen'&year='1951'\n",
            "The Frogmen movie found\n",
            "https://api.themoviedb.org/3/search/multi?api_key=defc104635dae32057dd64f95aaf4e0d&language=en-US&query='Silkwood'&year='1983'\n",
            "Silkwood movie found\n",
            "https://api.themoviedb.org/3/search/multi?api_key=defc104635dae32057dd64f95aaf4e0d&language=en-US&query='The Powerpuff Girls Movie'&year='2002'\n",
            "The Powerpuff Girls Movie movie found\n",
            "https://api.themoviedb.org/3/search/multi?api_key=defc104635dae32057dd64f95aaf4e0d&language=en-US&query='Elfen Lied'&year='2005'\n",
            "Elfen Lied movie found\n",
            "https://api.themoviedb.org/3/search/multi?api_key=defc104635dae32057dd64f95aaf4e0d&language=en-US&query='Iron Monkey 2'&year='1996'\n",
            "Iron Monkey 2 movie found\n",
            "https://api.themoviedb.org/3/search/multi?api_key=defc104635dae32057dd64f95aaf4e0d&language=en-US&query='Louder Than Bombs'&year='2002'\n",
            "Louder Than Bombs movie found\n"
          ],
          "name": "stdout"
        },
        {
          "output_type": "error",
          "ename": "KeyboardInterrupt",
          "evalue": "ignored",
          "traceback": [
            "\u001b[0;31m---------------------------------------------------------------------------\u001b[0m",
            "\u001b[0;31mTypeError\u001b[0m                                 Traceback (most recent call last)",
            "\u001b[0;32m/usr/local/lib/python3.7/dist-packages/urllib3/connectionpool.py\u001b[0m in \u001b[0;36m_make_request\u001b[0;34m(self, conn, method, url, timeout, chunked, **httplib_request_kw)\u001b[0m\n\u001b[1;32m    376\u001b[0m             \u001b[0;32mtry\u001b[0m\u001b[0;34m:\u001b[0m  \u001b[0;31m# Python 2.7, use buffering of HTTP responses\u001b[0m\u001b[0;34m\u001b[0m\u001b[0;34m\u001b[0m\u001b[0m\n\u001b[0;32m--> 377\u001b[0;31m                 \u001b[0mhttplib_response\u001b[0m \u001b[0;34m=\u001b[0m \u001b[0mconn\u001b[0m\u001b[0;34m.\u001b[0m\u001b[0mgetresponse\u001b[0m\u001b[0;34m(\u001b[0m\u001b[0mbuffering\u001b[0m\u001b[0;34m=\u001b[0m\u001b[0;32mTrue\u001b[0m\u001b[0;34m)\u001b[0m\u001b[0;34m\u001b[0m\u001b[0;34m\u001b[0m\u001b[0m\n\u001b[0m\u001b[1;32m    378\u001b[0m             \u001b[0;32mexcept\u001b[0m \u001b[0mTypeError\u001b[0m\u001b[0;34m:\u001b[0m  \u001b[0;31m# Python 3\u001b[0m\u001b[0;34m\u001b[0m\u001b[0;34m\u001b[0m\u001b[0m\n",
            "\u001b[0;31mTypeError\u001b[0m: getresponse() got an unexpected keyword argument 'buffering'",
            "\nDuring handling of the above exception, another exception occurred:\n",
            "\u001b[0;31mKeyboardInterrupt\u001b[0m                         Traceback (most recent call last)",
            "\u001b[0;32m<ipython-input-22-f6f9ab357954>\u001b[0m in \u001b[0;36m<module>\u001b[0;34m()\u001b[0m\n\u001b[1;32m     13\u001b[0m \u001b[0;34m\u001b[0m\u001b[0m\n\u001b[1;32m     14\u001b[0m     \u001b[0murl\u001b[0m \u001b[0;34m=\u001b[0m \u001b[0;34m\"https://api.themoviedb.org/3/search/multi?api_key=defc104635dae32057dd64f95aaf4e0d&language=en-US&query='\"\u001b[0m \u001b[0;34m+\u001b[0m \u001b[0mstr\u001b[0m\u001b[0;34m(\u001b[0m\u001b[0mmovie_title_part\u001b[0m\u001b[0;34m)\u001b[0m \u001b[0;34m+\u001b[0m\u001b[0;34m\"'&year='\"\u001b[0m \u001b[0;34m+\u001b[0m \u001b[0myear\u001b[0m \u001b[0;34m+\u001b[0m \u001b[0;34m\"'\"\u001b[0m\u001b[0;34m\u001b[0m\u001b[0;34m\u001b[0m\u001b[0m\n\u001b[0;32m---> 15\u001b[0;31m     \u001b[0mresponse\u001b[0m \u001b[0;34m=\u001b[0m \u001b[0mrequests\u001b[0m\u001b[0;34m.\u001b[0m\u001b[0mget\u001b[0m\u001b[0;34m(\u001b[0m\u001b[0murl\u001b[0m\u001b[0;34m)\u001b[0m\u001b[0;34m\u001b[0m\u001b[0;34m\u001b[0m\u001b[0m\n\u001b[0m\u001b[1;32m     16\u001b[0m     \u001b[0mresults\u001b[0m \u001b[0;34m=\u001b[0m \u001b[0mresponse\u001b[0m\u001b[0;34m.\u001b[0m\u001b[0mjson\u001b[0m\u001b[0;34m(\u001b[0m\u001b[0;34m)\u001b[0m\u001b[0;34m\u001b[0m\u001b[0;34m\u001b[0m\u001b[0m\n\u001b[1;32m     17\u001b[0m \u001b[0;34m\u001b[0m\u001b[0m\n",
            "\u001b[0;32m/usr/local/lib/python3.7/dist-packages/requests/api.py\u001b[0m in \u001b[0;36mget\u001b[0;34m(url, params, **kwargs)\u001b[0m\n\u001b[1;32m     74\u001b[0m \u001b[0;34m\u001b[0m\u001b[0m\n\u001b[1;32m     75\u001b[0m     \u001b[0mkwargs\u001b[0m\u001b[0;34m.\u001b[0m\u001b[0msetdefault\u001b[0m\u001b[0;34m(\u001b[0m\u001b[0;34m'allow_redirects'\u001b[0m\u001b[0;34m,\u001b[0m \u001b[0;32mTrue\u001b[0m\u001b[0;34m)\u001b[0m\u001b[0;34m\u001b[0m\u001b[0;34m\u001b[0m\u001b[0m\n\u001b[0;32m---> 76\u001b[0;31m     \u001b[0;32mreturn\u001b[0m \u001b[0mrequest\u001b[0m\u001b[0;34m(\u001b[0m\u001b[0;34m'get'\u001b[0m\u001b[0;34m,\u001b[0m \u001b[0murl\u001b[0m\u001b[0;34m,\u001b[0m \u001b[0mparams\u001b[0m\u001b[0;34m=\u001b[0m\u001b[0mparams\u001b[0m\u001b[0;34m,\u001b[0m \u001b[0;34m**\u001b[0m\u001b[0mkwargs\u001b[0m\u001b[0;34m)\u001b[0m\u001b[0;34m\u001b[0m\u001b[0;34m\u001b[0m\u001b[0m\n\u001b[0m\u001b[1;32m     77\u001b[0m \u001b[0;34m\u001b[0m\u001b[0m\n\u001b[1;32m     78\u001b[0m \u001b[0;34m\u001b[0m\u001b[0m\n",
            "\u001b[0;32m/usr/local/lib/python3.7/dist-packages/requests/api.py\u001b[0m in \u001b[0;36mrequest\u001b[0;34m(method, url, **kwargs)\u001b[0m\n\u001b[1;32m     59\u001b[0m     \u001b[0;31m# cases, and look like a memory leak in others.\u001b[0m\u001b[0;34m\u001b[0m\u001b[0;34m\u001b[0m\u001b[0;34m\u001b[0m\u001b[0m\n\u001b[1;32m     60\u001b[0m     \u001b[0;32mwith\u001b[0m \u001b[0msessions\u001b[0m\u001b[0;34m.\u001b[0m\u001b[0mSession\u001b[0m\u001b[0;34m(\u001b[0m\u001b[0;34m)\u001b[0m \u001b[0;32mas\u001b[0m \u001b[0msession\u001b[0m\u001b[0;34m:\u001b[0m\u001b[0;34m\u001b[0m\u001b[0;34m\u001b[0m\u001b[0m\n\u001b[0;32m---> 61\u001b[0;31m         \u001b[0;32mreturn\u001b[0m \u001b[0msession\u001b[0m\u001b[0;34m.\u001b[0m\u001b[0mrequest\u001b[0m\u001b[0;34m(\u001b[0m\u001b[0mmethod\u001b[0m\u001b[0;34m=\u001b[0m\u001b[0mmethod\u001b[0m\u001b[0;34m,\u001b[0m \u001b[0murl\u001b[0m\u001b[0;34m=\u001b[0m\u001b[0murl\u001b[0m\u001b[0;34m,\u001b[0m \u001b[0;34m**\u001b[0m\u001b[0mkwargs\u001b[0m\u001b[0;34m)\u001b[0m\u001b[0;34m\u001b[0m\u001b[0;34m\u001b[0m\u001b[0m\n\u001b[0m\u001b[1;32m     62\u001b[0m \u001b[0;34m\u001b[0m\u001b[0m\n\u001b[1;32m     63\u001b[0m \u001b[0;34m\u001b[0m\u001b[0m\n",
            "\u001b[0;32m/usr/local/lib/python3.7/dist-packages/requests/sessions.py\u001b[0m in \u001b[0;36mrequest\u001b[0;34m(self, method, url, params, data, headers, cookies, files, auth, timeout, allow_redirects, proxies, hooks, stream, verify, cert, json)\u001b[0m\n\u001b[1;32m    528\u001b[0m         }\n\u001b[1;32m    529\u001b[0m         \u001b[0msend_kwargs\u001b[0m\u001b[0;34m.\u001b[0m\u001b[0mupdate\u001b[0m\u001b[0;34m(\u001b[0m\u001b[0msettings\u001b[0m\u001b[0;34m)\u001b[0m\u001b[0;34m\u001b[0m\u001b[0;34m\u001b[0m\u001b[0m\n\u001b[0;32m--> 530\u001b[0;31m         \u001b[0mresp\u001b[0m \u001b[0;34m=\u001b[0m \u001b[0mself\u001b[0m\u001b[0;34m.\u001b[0m\u001b[0msend\u001b[0m\u001b[0;34m(\u001b[0m\u001b[0mprep\u001b[0m\u001b[0;34m,\u001b[0m \u001b[0;34m**\u001b[0m\u001b[0msend_kwargs\u001b[0m\u001b[0;34m)\u001b[0m\u001b[0;34m\u001b[0m\u001b[0;34m\u001b[0m\u001b[0m\n\u001b[0m\u001b[1;32m    531\u001b[0m \u001b[0;34m\u001b[0m\u001b[0m\n\u001b[1;32m    532\u001b[0m         \u001b[0;32mreturn\u001b[0m \u001b[0mresp\u001b[0m\u001b[0;34m\u001b[0m\u001b[0;34m\u001b[0m\u001b[0m\n",
            "\u001b[0;32m/usr/local/lib/python3.7/dist-packages/requests/sessions.py\u001b[0m in \u001b[0;36msend\u001b[0;34m(self, request, **kwargs)\u001b[0m\n\u001b[1;32m    641\u001b[0m \u001b[0;34m\u001b[0m\u001b[0m\n\u001b[1;32m    642\u001b[0m         \u001b[0;31m# Send the request\u001b[0m\u001b[0;34m\u001b[0m\u001b[0;34m\u001b[0m\u001b[0;34m\u001b[0m\u001b[0m\n\u001b[0;32m--> 643\u001b[0;31m         \u001b[0mr\u001b[0m \u001b[0;34m=\u001b[0m \u001b[0madapter\u001b[0m\u001b[0;34m.\u001b[0m\u001b[0msend\u001b[0m\u001b[0;34m(\u001b[0m\u001b[0mrequest\u001b[0m\u001b[0;34m,\u001b[0m \u001b[0;34m**\u001b[0m\u001b[0mkwargs\u001b[0m\u001b[0;34m)\u001b[0m\u001b[0;34m\u001b[0m\u001b[0;34m\u001b[0m\u001b[0m\n\u001b[0m\u001b[1;32m    644\u001b[0m \u001b[0;34m\u001b[0m\u001b[0m\n\u001b[1;32m    645\u001b[0m         \u001b[0;31m# Total elapsed time of the request (approximately)\u001b[0m\u001b[0;34m\u001b[0m\u001b[0;34m\u001b[0m\u001b[0;34m\u001b[0m\u001b[0m\n",
            "\u001b[0;32m/usr/local/lib/python3.7/dist-packages/requests/adapters.py\u001b[0m in \u001b[0;36msend\u001b[0;34m(self, request, stream, timeout, verify, cert, proxies)\u001b[0m\n\u001b[1;32m    447\u001b[0m                     \u001b[0mdecode_content\u001b[0m\u001b[0;34m=\u001b[0m\u001b[0;32mFalse\u001b[0m\u001b[0;34m,\u001b[0m\u001b[0;34m\u001b[0m\u001b[0;34m\u001b[0m\u001b[0m\n\u001b[1;32m    448\u001b[0m                     \u001b[0mretries\u001b[0m\u001b[0;34m=\u001b[0m\u001b[0mself\u001b[0m\u001b[0;34m.\u001b[0m\u001b[0mmax_retries\u001b[0m\u001b[0;34m,\u001b[0m\u001b[0;34m\u001b[0m\u001b[0;34m\u001b[0m\u001b[0m\n\u001b[0;32m--> 449\u001b[0;31m                     \u001b[0mtimeout\u001b[0m\u001b[0;34m=\u001b[0m\u001b[0mtimeout\u001b[0m\u001b[0;34m\u001b[0m\u001b[0;34m\u001b[0m\u001b[0m\n\u001b[0m\u001b[1;32m    450\u001b[0m                 )\n\u001b[1;32m    451\u001b[0m \u001b[0;34m\u001b[0m\u001b[0m\n",
            "\u001b[0;32m/usr/local/lib/python3.7/dist-packages/urllib3/connectionpool.py\u001b[0m in \u001b[0;36murlopen\u001b[0;34m(self, method, url, body, headers, retries, redirect, assert_same_host, timeout, pool_timeout, release_conn, chunked, body_pos, **response_kw)\u001b[0m\n\u001b[1;32m    598\u001b[0m                                                   \u001b[0mtimeout\u001b[0m\u001b[0;34m=\u001b[0m\u001b[0mtimeout_obj\u001b[0m\u001b[0;34m,\u001b[0m\u001b[0;34m\u001b[0m\u001b[0;34m\u001b[0m\u001b[0m\n\u001b[1;32m    599\u001b[0m                                                   \u001b[0mbody\u001b[0m\u001b[0;34m=\u001b[0m\u001b[0mbody\u001b[0m\u001b[0;34m,\u001b[0m \u001b[0mheaders\u001b[0m\u001b[0;34m=\u001b[0m\u001b[0mheaders\u001b[0m\u001b[0;34m,\u001b[0m\u001b[0;34m\u001b[0m\u001b[0;34m\u001b[0m\u001b[0m\n\u001b[0;32m--> 600\u001b[0;31m                                                   chunked=chunked)\n\u001b[0m\u001b[1;32m    601\u001b[0m \u001b[0;34m\u001b[0m\u001b[0m\n\u001b[1;32m    602\u001b[0m             \u001b[0;31m# If we're going to release the connection in ``finally:``, then\u001b[0m\u001b[0;34m\u001b[0m\u001b[0;34m\u001b[0m\u001b[0;34m\u001b[0m\u001b[0m\n",
            "\u001b[0;32m/usr/local/lib/python3.7/dist-packages/urllib3/connectionpool.py\u001b[0m in \u001b[0;36m_make_request\u001b[0;34m(self, conn, method, url, timeout, chunked, **httplib_request_kw)\u001b[0m\n\u001b[1;32m    378\u001b[0m             \u001b[0;32mexcept\u001b[0m \u001b[0mTypeError\u001b[0m\u001b[0;34m:\u001b[0m  \u001b[0;31m# Python 3\u001b[0m\u001b[0;34m\u001b[0m\u001b[0;34m\u001b[0m\u001b[0m\n\u001b[1;32m    379\u001b[0m                 \u001b[0;32mtry\u001b[0m\u001b[0;34m:\u001b[0m\u001b[0;34m\u001b[0m\u001b[0;34m\u001b[0m\u001b[0m\n\u001b[0;32m--> 380\u001b[0;31m                     \u001b[0mhttplib_response\u001b[0m \u001b[0;34m=\u001b[0m \u001b[0mconn\u001b[0m\u001b[0;34m.\u001b[0m\u001b[0mgetresponse\u001b[0m\u001b[0;34m(\u001b[0m\u001b[0;34m)\u001b[0m\u001b[0;34m\u001b[0m\u001b[0;34m\u001b[0m\u001b[0m\n\u001b[0m\u001b[1;32m    381\u001b[0m                 \u001b[0;32mexcept\u001b[0m \u001b[0mException\u001b[0m \u001b[0;32mas\u001b[0m \u001b[0me\u001b[0m\u001b[0;34m:\u001b[0m\u001b[0;34m\u001b[0m\u001b[0;34m\u001b[0m\u001b[0m\n\u001b[1;32m    382\u001b[0m                     \u001b[0;31m# Remove the TypeError from the exception chain in Python 3;\u001b[0m\u001b[0;34m\u001b[0m\u001b[0;34m\u001b[0m\u001b[0;34m\u001b[0m\u001b[0m\n",
            "\u001b[0;32m/usr/lib/python3.7/http/client.py\u001b[0m in \u001b[0;36mgetresponse\u001b[0;34m(self)\u001b[0m\n\u001b[1;32m   1367\u001b[0m         \u001b[0;32mtry\u001b[0m\u001b[0;34m:\u001b[0m\u001b[0;34m\u001b[0m\u001b[0;34m\u001b[0m\u001b[0m\n\u001b[1;32m   1368\u001b[0m             \u001b[0;32mtry\u001b[0m\u001b[0;34m:\u001b[0m\u001b[0;34m\u001b[0m\u001b[0;34m\u001b[0m\u001b[0m\n\u001b[0;32m-> 1369\u001b[0;31m                 \u001b[0mresponse\u001b[0m\u001b[0;34m.\u001b[0m\u001b[0mbegin\u001b[0m\u001b[0;34m(\u001b[0m\u001b[0;34m)\u001b[0m\u001b[0;34m\u001b[0m\u001b[0;34m\u001b[0m\u001b[0m\n\u001b[0m\u001b[1;32m   1370\u001b[0m             \u001b[0;32mexcept\u001b[0m \u001b[0mConnectionError\u001b[0m\u001b[0;34m:\u001b[0m\u001b[0;34m\u001b[0m\u001b[0;34m\u001b[0m\u001b[0m\n\u001b[1;32m   1371\u001b[0m                 \u001b[0mself\u001b[0m\u001b[0;34m.\u001b[0m\u001b[0mclose\u001b[0m\u001b[0;34m(\u001b[0m\u001b[0;34m)\u001b[0m\u001b[0;34m\u001b[0m\u001b[0;34m\u001b[0m\u001b[0m\n",
            "\u001b[0;32m/usr/lib/python3.7/http/client.py\u001b[0m in \u001b[0;36mbegin\u001b[0;34m(self)\u001b[0m\n\u001b[1;32m    308\u001b[0m         \u001b[0;31m# read until we get a non-100 response\u001b[0m\u001b[0;34m\u001b[0m\u001b[0;34m\u001b[0m\u001b[0;34m\u001b[0m\u001b[0m\n\u001b[1;32m    309\u001b[0m         \u001b[0;32mwhile\u001b[0m \u001b[0;32mTrue\u001b[0m\u001b[0;34m:\u001b[0m\u001b[0;34m\u001b[0m\u001b[0;34m\u001b[0m\u001b[0m\n\u001b[0;32m--> 310\u001b[0;31m             \u001b[0mversion\u001b[0m\u001b[0;34m,\u001b[0m \u001b[0mstatus\u001b[0m\u001b[0;34m,\u001b[0m \u001b[0mreason\u001b[0m \u001b[0;34m=\u001b[0m \u001b[0mself\u001b[0m\u001b[0;34m.\u001b[0m\u001b[0m_read_status\u001b[0m\u001b[0;34m(\u001b[0m\u001b[0;34m)\u001b[0m\u001b[0;34m\u001b[0m\u001b[0;34m\u001b[0m\u001b[0m\n\u001b[0m\u001b[1;32m    311\u001b[0m             \u001b[0;32mif\u001b[0m \u001b[0mstatus\u001b[0m \u001b[0;34m!=\u001b[0m \u001b[0mCONTINUE\u001b[0m\u001b[0;34m:\u001b[0m\u001b[0;34m\u001b[0m\u001b[0;34m\u001b[0m\u001b[0m\n\u001b[1;32m    312\u001b[0m                 \u001b[0;32mbreak\u001b[0m\u001b[0;34m\u001b[0m\u001b[0;34m\u001b[0m\u001b[0m\n",
            "\u001b[0;32m/usr/lib/python3.7/http/client.py\u001b[0m in \u001b[0;36m_read_status\u001b[0;34m(self)\u001b[0m\n\u001b[1;32m    269\u001b[0m \u001b[0;34m\u001b[0m\u001b[0m\n\u001b[1;32m    270\u001b[0m     \u001b[0;32mdef\u001b[0m \u001b[0m_read_status\u001b[0m\u001b[0;34m(\u001b[0m\u001b[0mself\u001b[0m\u001b[0;34m)\u001b[0m\u001b[0;34m:\u001b[0m\u001b[0;34m\u001b[0m\u001b[0;34m\u001b[0m\u001b[0m\n\u001b[0;32m--> 271\u001b[0;31m         \u001b[0mline\u001b[0m \u001b[0;34m=\u001b[0m \u001b[0mstr\u001b[0m\u001b[0;34m(\u001b[0m\u001b[0mself\u001b[0m\u001b[0;34m.\u001b[0m\u001b[0mfp\u001b[0m\u001b[0;34m.\u001b[0m\u001b[0mreadline\u001b[0m\u001b[0;34m(\u001b[0m\u001b[0m_MAXLINE\u001b[0m \u001b[0;34m+\u001b[0m \u001b[0;36m1\u001b[0m\u001b[0;34m)\u001b[0m\u001b[0;34m,\u001b[0m \u001b[0;34m\"iso-8859-1\"\u001b[0m\u001b[0;34m)\u001b[0m\u001b[0;34m\u001b[0m\u001b[0;34m\u001b[0m\u001b[0m\n\u001b[0m\u001b[1;32m    272\u001b[0m         \u001b[0;32mif\u001b[0m \u001b[0mlen\u001b[0m\u001b[0;34m(\u001b[0m\u001b[0mline\u001b[0m\u001b[0;34m)\u001b[0m \u001b[0;34m>\u001b[0m \u001b[0m_MAXLINE\u001b[0m\u001b[0;34m:\u001b[0m\u001b[0;34m\u001b[0m\u001b[0;34m\u001b[0m\u001b[0m\n\u001b[1;32m    273\u001b[0m             \u001b[0;32mraise\u001b[0m \u001b[0mLineTooLong\u001b[0m\u001b[0;34m(\u001b[0m\u001b[0;34m\"status line\"\u001b[0m\u001b[0;34m)\u001b[0m\u001b[0;34m\u001b[0m\u001b[0;34m\u001b[0m\u001b[0m\n",
            "\u001b[0;32m/usr/lib/python3.7/socket.py\u001b[0m in \u001b[0;36mreadinto\u001b[0;34m(self, b)\u001b[0m\n\u001b[1;32m    587\u001b[0m         \u001b[0;32mwhile\u001b[0m \u001b[0;32mTrue\u001b[0m\u001b[0;34m:\u001b[0m\u001b[0;34m\u001b[0m\u001b[0;34m\u001b[0m\u001b[0m\n\u001b[1;32m    588\u001b[0m             \u001b[0;32mtry\u001b[0m\u001b[0;34m:\u001b[0m\u001b[0;34m\u001b[0m\u001b[0;34m\u001b[0m\u001b[0m\n\u001b[0;32m--> 589\u001b[0;31m                 \u001b[0;32mreturn\u001b[0m \u001b[0mself\u001b[0m\u001b[0;34m.\u001b[0m\u001b[0m_sock\u001b[0m\u001b[0;34m.\u001b[0m\u001b[0mrecv_into\u001b[0m\u001b[0;34m(\u001b[0m\u001b[0mb\u001b[0m\u001b[0;34m)\u001b[0m\u001b[0;34m\u001b[0m\u001b[0;34m\u001b[0m\u001b[0m\n\u001b[0m\u001b[1;32m    590\u001b[0m             \u001b[0;32mexcept\u001b[0m \u001b[0mtimeout\u001b[0m\u001b[0;34m:\u001b[0m\u001b[0;34m\u001b[0m\u001b[0;34m\u001b[0m\u001b[0m\n\u001b[1;32m    591\u001b[0m                 \u001b[0mself\u001b[0m\u001b[0;34m.\u001b[0m\u001b[0m_timeout_occurred\u001b[0m \u001b[0;34m=\u001b[0m \u001b[0;32mTrue\u001b[0m\u001b[0;34m\u001b[0m\u001b[0;34m\u001b[0m\u001b[0m\n",
            "\u001b[0;32m/usr/lib/python3.7/ssl.py\u001b[0m in \u001b[0;36mrecv_into\u001b[0;34m(self, buffer, nbytes, flags)\u001b[0m\n\u001b[1;32m   1069\u001b[0m                   \u001b[0;34m\"non-zero flags not allowed in calls to recv_into() on %s\"\u001b[0m \u001b[0;34m%\u001b[0m\u001b[0;34m\u001b[0m\u001b[0;34m\u001b[0m\u001b[0m\n\u001b[1;32m   1070\u001b[0m                   self.__class__)\n\u001b[0;32m-> 1071\u001b[0;31m             \u001b[0;32mreturn\u001b[0m \u001b[0mself\u001b[0m\u001b[0;34m.\u001b[0m\u001b[0mread\u001b[0m\u001b[0;34m(\u001b[0m\u001b[0mnbytes\u001b[0m\u001b[0;34m,\u001b[0m \u001b[0mbuffer\u001b[0m\u001b[0;34m)\u001b[0m\u001b[0;34m\u001b[0m\u001b[0;34m\u001b[0m\u001b[0m\n\u001b[0m\u001b[1;32m   1072\u001b[0m         \u001b[0;32melse\u001b[0m\u001b[0;34m:\u001b[0m\u001b[0;34m\u001b[0m\u001b[0;34m\u001b[0m\u001b[0m\n\u001b[1;32m   1073\u001b[0m             \u001b[0;32mreturn\u001b[0m \u001b[0msuper\u001b[0m\u001b[0;34m(\u001b[0m\u001b[0;34m)\u001b[0m\u001b[0;34m.\u001b[0m\u001b[0mrecv_into\u001b[0m\u001b[0;34m(\u001b[0m\u001b[0mbuffer\u001b[0m\u001b[0;34m,\u001b[0m \u001b[0mnbytes\u001b[0m\u001b[0;34m,\u001b[0m \u001b[0mflags\u001b[0m\u001b[0;34m)\u001b[0m\u001b[0;34m\u001b[0m\u001b[0;34m\u001b[0m\u001b[0m\n",
            "\u001b[0;32m/usr/lib/python3.7/ssl.py\u001b[0m in \u001b[0;36mread\u001b[0;34m(self, len, buffer)\u001b[0m\n\u001b[1;32m    927\u001b[0m         \u001b[0;32mtry\u001b[0m\u001b[0;34m:\u001b[0m\u001b[0;34m\u001b[0m\u001b[0;34m\u001b[0m\u001b[0m\n\u001b[1;32m    928\u001b[0m             \u001b[0;32mif\u001b[0m \u001b[0mbuffer\u001b[0m \u001b[0;32mis\u001b[0m \u001b[0;32mnot\u001b[0m \u001b[0;32mNone\u001b[0m\u001b[0;34m:\u001b[0m\u001b[0;34m\u001b[0m\u001b[0;34m\u001b[0m\u001b[0m\n\u001b[0;32m--> 929\u001b[0;31m                 \u001b[0;32mreturn\u001b[0m \u001b[0mself\u001b[0m\u001b[0;34m.\u001b[0m\u001b[0m_sslobj\u001b[0m\u001b[0;34m.\u001b[0m\u001b[0mread\u001b[0m\u001b[0;34m(\u001b[0m\u001b[0mlen\u001b[0m\u001b[0;34m,\u001b[0m \u001b[0mbuffer\u001b[0m\u001b[0;34m)\u001b[0m\u001b[0;34m\u001b[0m\u001b[0;34m\u001b[0m\u001b[0m\n\u001b[0m\u001b[1;32m    930\u001b[0m             \u001b[0;32melse\u001b[0m\u001b[0;34m:\u001b[0m\u001b[0;34m\u001b[0m\u001b[0;34m\u001b[0m\u001b[0m\n\u001b[1;32m    931\u001b[0m                 \u001b[0;32mreturn\u001b[0m \u001b[0mself\u001b[0m\u001b[0;34m.\u001b[0m\u001b[0m_sslobj\u001b[0m\u001b[0;34m.\u001b[0m\u001b[0mread\u001b[0m\u001b[0;34m(\u001b[0m\u001b[0mlen\u001b[0m\u001b[0;34m)\u001b[0m\u001b[0;34m\u001b[0m\u001b[0;34m\u001b[0m\u001b[0m\n",
            "\u001b[0;31mKeyboardInterrupt\u001b[0m: "
          ]
        }
      ]
    },
    {
      "cell_type": "code",
      "metadata": {
        "id": "FswR40KidLlb"
      },
      "source": [
        "\n",
        "\n",
        "\n",
        "movies_netflix.to_csv('movie_titles.csv', header=True)\n",
        "!cp movie_titles.csv \"gdrive/My Drive/\""
      ],
      "execution_count": null,
      "outputs": []
    },
    {
      "cell_type": "code",
      "metadata": {
        "id": "IVc3ZP7zhf_r"
      },
      "source": [
        "movies_netflix[movies_netflix[\"genre_ids\"] == \"[]\" ].count\n",
        "\n",
        "#movies_netflix[(movies_netflix[\"genres\"].notnull()) ]\n"
      ],
      "execution_count": null,
      "outputs": []
    },
    {
      "cell_type": "code",
      "metadata": {
        "id": "UPATnE1v5AVn"
      },
      "source": [
        ""
      ],
      "execution_count": null,
      "outputs": []
    }
  ]
}