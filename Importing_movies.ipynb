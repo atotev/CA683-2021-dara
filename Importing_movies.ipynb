{
  "nbformat": 4,
  "nbformat_minor": 0,
  "metadata": {
    "colab": {
      "name": "Importing movies.ipynb",
      "provenance": [],
      "include_colab_link": true
    },
    "kernelspec": {
      "display_name": "Python 3",
      "name": "python3"
    }
  },
  "cells": [
    {
      "cell_type": "markdown",
      "metadata": {
        "id": "view-in-github",
        "colab_type": "text"
      },
      "source": [
        "<a href=\"https://colab.research.google.com/github/atotev/ca683-2021-dara/blob/main/Importing_movies.ipynb\" target=\"_parent\"><img src=\"https://colab.research.google.com/assets/colab-badge.svg\" alt=\"Open In Colab\"/></a>"
      ]
    },
    {
      "cell_type": "code",
      "metadata": {
        "colab": {
          "base_uri": "https://localhost:8080/"
        },
        "id": "T2PxXvgb0D4F",
        "outputId": "cb3a042c-2902-40b2-aab7-197225b928ca"
      },
      "source": [
        "pip install requests"
      ],
      "execution_count": 35,
      "outputs": [
        {
          "output_type": "stream",
          "text": [
            "Requirement already satisfied: requests in /usr/local/lib/python3.7/dist-packages (2.23.0)\n",
            "Requirement already satisfied: certifi>=2017.4.17 in /usr/local/lib/python3.7/dist-packages (from requests) (2020.12.5)\n",
            "Requirement already satisfied: chardet<4,>=3.0.2 in /usr/local/lib/python3.7/dist-packages (from requests) (3.0.4)\n",
            "Requirement already satisfied: urllib3!=1.25.0,!=1.25.1,<1.26,>=1.21.1 in /usr/local/lib/python3.7/dist-packages (from requests) (1.24.3)\n",
            "Requirement already satisfied: idna<3,>=2.5 in /usr/local/lib/python3.7/dist-packages (from requests) (2.10)\n"
          ],
          "name": "stdout"
        }
      ]
    },
    {
      "cell_type": "code",
      "metadata": {
        "id": "IlFPjIPD0RpX"
      },
      "source": [
        "# Code to read csv file into Colaboratory:\n",
        "!pip install -U -q PyDrive\n",
        "from pydrive.auth import GoogleAuth\n",
        "from pydrive.drive import GoogleDrive\n",
        "from google.colab import auth\n",
        "from oauth2client.client import GoogleCredentials\n",
        "# Authenticate and create the PyDrive client.\n",
        "auth.authenticate_user()\n",
        "gauth = GoogleAuth()\n",
        "gauth.credentials = GoogleCredentials.get_application_default()\n",
        "drive = GoogleDrive(gauth)"
      ],
      "execution_count": 36,
      "outputs": []
    },
    {
      "cell_type": "code",
      "metadata": {
        "id": "5OAuIT0s0uYE"
      },
      "source": [
        "import pandas as pd\n",
        "import numpy as np\n",
        "import matplotlib.pyplot as plt\n",
        "from sklearn import preprocessing\n"
      ],
      "execution_count": 37,
      "outputs": []
    },
    {
      "cell_type": "code",
      "metadata": {
        "id": "kTvSqB5N071x"
      },
      "source": [
        "apiKey = \"defc104635dae32057dd64f95aaf4e0d\"\n"
      ],
      "execution_count": 42,
      "outputs": []
    },
    {
      "cell_type": "code",
      "metadata": {
        "id": "EO0axlR60wPa"
      },
      "source": [
        "link ='https://drive.google.com/file/d/1rIJjrQh3g6QScqx6J-rN2kC8Ki2weP9v/view?usp=sharing'"
      ],
      "execution_count": 43,
      "outputs": []
    },
    {
      "cell_type": "code",
      "metadata": {
        "id": "NkuqmaCv0_tF",
        "colab": {
          "base_uri": "https://localhost:8080/",
          "height": 252
        },
        "outputId": "637dfbb7-7e2b-4840-fa54-a90e05bfebce"
      },
      "source": [
        "\n",
        "\n",
        "downloaded = drive.CreateFile({'id':'1rIJjrQh3g6QScqx6J-rN2kC8Ki2weP9v'}) \n",
        "fileMovies = 'movie_titles.csv'\n",
        "\n",
        "downloaded.GetContentFile(fileMovies)  \n",
        "\n",
        "movies_netflix = pd.read_csv(fileMovies, \n",
        "                           encoding = 'ISO-8859-1', \n",
        "                           header = None, \n",
        "                           names = ['id', 'year', 'title']).set_index('id')\n",
        "\n",
        "print('Shape Movie-Titles:\\t{}'.format(movie_titles.shape))\n",
        "movies_netflix.sample(5)\n",
        "\n",
        "#total of 17770\n",
        "\n"
      ],
      "execution_count": 46,
      "outputs": [
        {
          "output_type": "stream",
          "text": [
            "Shape Movie-Titles:\t(17770, 2)\n"
          ],
          "name": "stdout"
        },
        {
          "output_type": "execute_result",
          "data": {
            "text/html": [
              "<div>\n",
              "<style scoped>\n",
              "    .dataframe tbody tr th:only-of-type {\n",
              "        vertical-align: middle;\n",
              "    }\n",
              "\n",
              "    .dataframe tbody tr th {\n",
              "        vertical-align: top;\n",
              "    }\n",
              "\n",
              "    .dataframe thead th {\n",
              "        text-align: right;\n",
              "    }\n",
              "</style>\n",
              "<table border=\"1\" class=\"dataframe\">\n",
              "  <thead>\n",
              "    <tr style=\"text-align: right;\">\n",
              "      <th></th>\n",
              "      <th>year</th>\n",
              "      <th>title</th>\n",
              "    </tr>\n",
              "    <tr>\n",
              "      <th>id</th>\n",
              "      <th></th>\n",
              "      <th></th>\n",
              "    </tr>\n",
              "  </thead>\n",
              "  <tbody>\n",
              "    <tr>\n",
              "      <th>1274</th>\n",
              "      <td>1984.0</td>\n",
              "      <td>At Close Range</td>\n",
              "    </tr>\n",
              "    <tr>\n",
              "      <th>2660</th>\n",
              "      <td>1989.0</td>\n",
              "      <td>When Harry Met Sally</td>\n",
              "    </tr>\n",
              "    <tr>\n",
              "      <th>10476</th>\n",
              "      <td>1932.0</td>\n",
              "      <td>Trouble in Paradise</td>\n",
              "    </tr>\n",
              "    <tr>\n",
              "      <th>9455</th>\n",
              "      <td>1967.0</td>\n",
              "      <td>The Happiest Millionaire</td>\n",
              "    </tr>\n",
              "    <tr>\n",
              "      <th>3015</th>\n",
              "      <td>2004.0</td>\n",
              "      <td>The Final Cut</td>\n",
              "    </tr>\n",
              "  </tbody>\n",
              "</table>\n",
              "</div>"
            ],
            "text/plain": [
              "         year                     title\n",
              "id                                     \n",
              "1274   1984.0            At Close Range\n",
              "2660   1989.0      When Harry Met Sally\n",
              "10476  1932.0       Trouble in Paradise\n",
              "9455   1967.0  The Happiest Millionaire\n",
              "3015   2004.0             The Final Cut"
            ]
          },
          "metadata": {
            "tags": []
          },
          "execution_count": 46
        }
      ]
    },
    {
      "cell_type": "code",
      "metadata": {
        "colab": {
          "base_uri": "https://localhost:8080/"
        },
        "id": "U1XD8I00c6rm",
        "outputId": "9c22cebb-2ab3-4f14-d073-5a929f11d691"
      },
      "source": [
        "from google.colab import drive\n",
        "drive.mount('/content/gdrive')"
      ],
      "execution_count": 31,
      "outputs": [
        {
          "output_type": "stream",
          "text": [
            "Mounted at /content/gdrive\n"
          ],
          "name": "stdout"
        }
      ]
    },
    {
      "cell_type": "markdown",
      "metadata": {
        "id": "xYfrU-kl4B7y"
      },
      "source": [
        "**Search for movies in the Movie DB API**\n",
        "- For each movie found store genre, popularity, votes, genre and media type\n",
        "- Ignore titles found with category 'People' as it would actors/directores an dnov movies\n",
        "\n",
        "https://developers.themoviedb.org/3/search/search-movies"
      ]
    },
    {
      "cell_type": "code",
      "metadata": {
        "id": "LQ3lJuCRLBG5"
      },
      "source": [
        "def getFirstPartMovieName(movie):\n",
        "  if movie.find(\":\") != -1:\n",
        "    return movie[0:movie.find(\":\")]\n",
        "  if movie.find(\"(\") != -1:\n",
        "    return movie[0:movie.find(\"(\")]\n",
        "  if movie.find(\"/\") != -1:\n",
        "    return movie[0:movie.find(\"/\")]\n",
        "  return movie\n",
        "\n",
        "def period_is_ok(release_date, year):\n",
        "    if (len(release_date)>=4 and len(year) >= 4):\n",
        "      release_date_int = int(float(release_date[0:4]))\n",
        "      year_int = int(float(year[0:4]))\n",
        "      difference = (release_date_int - year_int)\n",
        "      if (difference >= -3 and difference <= 3 ):\n",
        "        return True\n",
        "    return False"
      ],
      "execution_count": 80,
      "outputs": []
    },
    {
      "cell_type": "code",
      "metadata": {
        "id": "6p3LSUIbQeMo"
      },
      "source": [
        "#add new columns to the data frame\n",
        "if 'id_moviedb' not in movies_netflix:\n",
        "  movies_netflix['id_moviedb'] = 0\n",
        "if 'genre_ids' not in movies_netflix:\n",
        "  movies_netflix['genre_ids'] = str()\n",
        "if 'vote_average' not in movies_netflix:\n",
        "  movies_netflix['vote_average'] = 0\n",
        "if 'genre_ids' not in movies_netflix:\n",
        "  movies_netflix['genre_ids'] = 0\n",
        "if 'media_type' not in movies_netflix:\n",
        "  movies_netflix['media_type'] = \"\""
      ],
      "execution_count": 77,
      "outputs": []
    },
    {
      "cell_type": "code",
      "metadata": {
        "colab": {
          "base_uri": "https://localhost:8080/"
        },
        "id": "1x2Y9uV315j0",
        "outputId": "66795702-59b5-4266-c1cd-250e75620bd0"
      },
      "source": [
        "from google.colab import files\n",
        "import requests\n",
        "from time import sleep\n",
        "count = 0\n",
        "\n",
        "for ind in movies_netflix[0:17769].index: \n",
        "\n",
        "    movie_title = movies_netflix['title'][ind]\n",
        "    year = (str(movies_netflix['year'][ind])[0:4])\n",
        "\n",
        "    movie_title_part = getFirstPartMovieName(movie_title)\n",
        "\n",
        "    url = \"https://api.themoviedb.org/3/search/multi?api_key=\"+ apiKey +\"&language=en-US&query=\" + str(movie_title_part)\n",
        "    response = requests.get(url)\n",
        "    results = response.json()\n",
        "\n",
        "    movie = {}\n",
        "\n",
        "    print(url)\n",
        "\n",
        "    if (len(results[\"results\"])) >= 1:\n",
        "      for item in results[\"results\"]:\n",
        "        if item[\"media_type\"] != \"person\":\n",
        "          if \"name\" in item:            \n",
        "            if item[\"name\"] == movie_title:\n",
        "              movie = item\n",
        "              break\n",
        "          if \"title\" in item: \n",
        "            if item[\"title\"] == movie_title:\n",
        "              movie = item\n",
        "              break\n",
        "          if \"original_title\" in item:             \n",
        "            if item[\"original_title\"] == movie_title:\n",
        "              movie = item\n",
        "              break\n",
        "          if \"release_date\" in item:                   \n",
        "            if period_is_ok(item[\"release_date\"], year):\n",
        "              movie = item\n",
        "              break\n",
        "          if \"first_air_date\" in item:    \n",
        "            if period_is_ok(item[\"first_air_date\"], year):\n",
        "              movie = item\n",
        "              break\n",
        "             \n",
        "    elif (len(results[\"results\"])) == 1:\n",
        "      movie = results[\"results\"][0]\n",
        "        \n",
        "    if movie:\n",
        "      count = count + 1\n",
        "      movies_netflix['id_moviedb'][ind] = movie[\"id\"]\n",
        "      if \"genre_ids\" in movie:\n",
        "        movies_netflix['genre_ids'][ind] = movie[\"genre_ids\"]\n",
        "      if \"vote_average\" in movie:\n",
        "        movies_netflix['vote_average'][ind] = movie[\"vote_average\"]\n",
        "      if \"media_type\" in movie:\n",
        "        movies_netflix['media_type'][ind] = movie[\"media_type\"]\n",
        "      if \"popularity\" in movie:\n",
        "        movies_netflix['popularity'][ind] = movie[\"popularity\"]\n",
        "      print(movie_title + \" movie found\")\n",
        "    else:\n",
        "      print(movie_title + \" not found\")\n",
        "\n",
        "    if count == 10:\n",
        "      # movies_netflix.to_csv('movie_titles.csv', header=True)\n",
        "      # !cp movie_titles.csv \"gdrive/My Drive/\"\n",
        "      count = 0\n",
        "      sleep(1.5) #due to the limit of calls of the API\n"
      ],
      "execution_count": 84,
      "outputs": [
        {
          "output_type": "stream",
          "text": [
            "https://api.themoviedb.org/3/search/multi?api_key=defc104635dae32057dd64f95aaf4e0d&language=en-US&query=Dinosaur Planet\n",
            "Dinosaur Planet movie found\n",
            "https://api.themoviedb.org/3/search/multi?api_key=defc104635dae32057dd64f95aaf4e0d&language=en-US&query=Isle of Man TT 2004 Review\n",
            "Isle of Man TT 2004 Review not found\n",
            "https://api.themoviedb.org/3/search/multi?api_key=defc104635dae32057dd64f95aaf4e0d&language=en-US&query=Character\n",
            "Character movie found\n"
          ],
          "name": "stdout"
        },
        {
          "output_type": "stream",
          "text": [
            "/usr/local/lib/python3.7/dist-packages/ipykernel_launcher.py:50: SettingWithCopyWarning: \n",
            "A value is trying to be set on a copy of a slice from a DataFrame\n",
            "\n",
            "See the caveats in the documentation: https://pandas.pydata.org/pandas-docs/stable/user_guide/indexing.html#returning-a-view-versus-a-copy\n",
            "/usr/local/lib/python3.7/dist-packages/ipykernel_launcher.py:52: SettingWithCopyWarning: \n",
            "A value is trying to be set on a copy of a slice from a DataFrame\n",
            "\n",
            "See the caveats in the documentation: https://pandas.pydata.org/pandas-docs/stable/user_guide/indexing.html#returning-a-view-versus-a-copy\n",
            "/usr/local/lib/python3.7/dist-packages/ipykernel_launcher.py:54: SettingWithCopyWarning: \n",
            "A value is trying to be set on a copy of a slice from a DataFrame\n",
            "\n",
            "See the caveats in the documentation: https://pandas.pydata.org/pandas-docs/stable/user_guide/indexing.html#returning-a-view-versus-a-copy\n",
            "/usr/local/lib/python3.7/dist-packages/ipykernel_launcher.py:56: SettingWithCopyWarning: \n",
            "A value is trying to be set on a copy of a slice from a DataFrame\n",
            "\n",
            "See the caveats in the documentation: https://pandas.pydata.org/pandas-docs/stable/user_guide/indexing.html#returning-a-view-versus-a-copy\n",
            "/usr/local/lib/python3.7/dist-packages/ipykernel_launcher.py:58: SettingWithCopyWarning: \n",
            "A value is trying to be set on a copy of a slice from a DataFrame\n",
            "\n",
            "See the caveats in the documentation: https://pandas.pydata.org/pandas-docs/stable/user_guide/indexing.html#returning-a-view-versus-a-copy\n"
          ],
          "name": "stderr"
        },
        {
          "output_type": "stream",
          "text": [
            "https://api.themoviedb.org/3/search/multi?api_key=defc104635dae32057dd64f95aaf4e0d&language=en-US&query=Paula Abdul's Get Up & Dance\n",
            "Paula Abdul's Get Up & Dance movie found\n",
            "https://api.themoviedb.org/3/search/multi?api_key=defc104635dae32057dd64f95aaf4e0d&language=en-US&query=The Rise and Fall of ECW\n",
            "The Rise and Fall of ECW movie found\n",
            "https://api.themoviedb.org/3/search/multi?api_key=defc104635dae32057dd64f95aaf4e0d&language=en-US&query=Sick\n",
            "Sick movie found\n",
            "https://api.themoviedb.org/3/search/multi?api_key=defc104635dae32057dd64f95aaf4e0d&language=en-US&query=8 Man\n",
            "8 Man movie found\n",
            "https://api.themoviedb.org/3/search/multi?api_key=defc104635dae32057dd64f95aaf4e0d&language=en-US&query=What the #$*! Do We Know!?\n",
            "What the #$*! Do We Know!? movie found\n",
            "https://api.themoviedb.org/3/search/multi?api_key=defc104635dae32057dd64f95aaf4e0d&language=en-US&query=Class of Nuke 'Em High 2\n",
            "Class of Nuke 'Em High 2 movie found\n",
            "https://api.themoviedb.org/3/search/multi?api_key=defc104635dae32057dd64f95aaf4e0d&language=en-US&query=Fighter\n",
            "Fighter movie found\n"
          ],
          "name": "stdout"
        }
      ]
    },
    {
      "cell_type": "markdown",
      "metadata": {
        "id": "vJFrU7RE300G"
      },
      "source": [
        "**Get Movie Details**"
      ]
    },
    {
      "cell_type": "markdown",
      "metadata": {
        "id": "1UTnetHY44h1"
      },
      "source": [
        "**One-hot enconding**"
      ]
    },
    {
      "cell_type": "markdown",
      "metadata": {
        "id": "byoklUGX401a"
      },
      "source": [
        "**Pre-Processing**"
      ]
    },
    {
      "cell_type": "code",
      "metadata": {
        "id": "NKQruczl40b7"
      },
      "source": [
        ""
      ],
      "execution_count": null,
      "outputs": []
    },
    {
      "cell_type": "code",
      "metadata": {
        "id": "-Gbl_BtS4uq0"
      },
      "source": [
        ""
      ],
      "execution_count": null,
      "outputs": []
    },
    {
      "cell_type": "code",
      "metadata": {
        "id": "FswR40KidLlb"
      },
      "source": [
        "#https://developers.themoviedb.org/3/movies/get-movie-details\n",
        "\n",
        "\n",
        "# movies_netflix.to_csv('movie_titles.csv', header=True)\n",
        "# !cp movie_titles.csv \"gdrive/My Drive/\""
      ],
      "execution_count": null,
      "outputs": []
    }
  ]
}