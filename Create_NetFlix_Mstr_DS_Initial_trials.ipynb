{
  "nbformat": 4,
  "nbformat_minor": 0,
  "metadata": {
    "colab": {
      "name": "Create_NetFlix_Mstr_DS_Initial_trials.ipynb",
      "provenance": [],
      "collapsed_sections": [],
      "authorship_tag": "ABX9TyNg/ap3sYOhH1aBEyXYtb/J",
      "include_colab_link": true
    },
    "kernelspec": {
      "name": "python3",
      "display_name": "Python 3"
    },
    "language_info": {
      "name": "python"
    }
  },
  "cells": [
    {
      "cell_type": "markdown",
      "metadata": {
        "id": "view-in-github",
        "colab_type": "text"
      },
      "source": [
        "<a href=\"https://colab.research.google.com/github/atotev/ca683-2021-dara/blob/main/Create_NetFlix_Mstr_DS_Initial_trials.ipynb\" target=\"_parent\"><img src=\"https://colab.research.google.com/assets/colab-badge.svg\" alt=\"Open In Colab\"/></a>"
      ]
    },
    {
      "cell_type": "code",
      "metadata": {
        "colab": {
          "base_uri": "https://localhost:8080/"
        },
        "id": "WZ61_7uUAYSz",
        "outputId": "dc24ba6c-5e81-4afc-f462-4e373fca54c4"
      },
      "source": [
        "from google.colab import drive\n",
        "import os\n",
        "drive.mount('/content/drive/')\n",
        "os.chdir('/content/drive/My Drive/Netflix_MR/')"
      ],
      "execution_count": 1,
      "outputs": [
        {
          "output_type": "stream",
          "text": [
            "Mounted at /content/drive/\n"
          ],
          "name": "stdout"
        }
      ]
    },
    {
      "cell_type": "code",
      "metadata": {
        "colab": {
          "base_uri": "https://localhost:8080/"
        },
        "id": "6m_FkmxyCMXh",
        "outputId": "070c19cd-5b1b-4485-c297-8b167ce963ea"
      },
      "source": [
        "!ls"
      ],
      "execution_count": 2,
      "outputs": [
        {
          "output_type": "stream",
          "text": [
            "all_sparse_matrix.npz  combined_data_2.txt  combined_data_4.txt  data.csv\n",
            "combined_data_1.txt    combined_data_3.txt  data1.csv\n"
          ],
          "name": "stdout"
        }
      ]
    },
    {
      "cell_type": "code",
      "metadata": {
        "id": "F4OjmFKmAu_7"
      },
      "source": [
        "from datetime import datetime"
      ],
      "execution_count": 3,
      "outputs": []
    },
    {
      "cell_type": "code",
      "metadata": {
        "id": "vf2tAuY4AyvW"
      },
      "source": [
        "import pandas as pd\n",
        "import numpy as np"
      ],
      "execution_count": 4,
      "outputs": []
    },
    {
      "cell_type": "code",
      "metadata": {
        "colab": {
          "base_uri": "https://localhost:8080/"
        },
        "id": "MaX9t0rIBDcf",
        "outputId": "16e299d3-047c-4f40-c16b-c96c92029135"
      },
      "source": [
        "start = datetime.now()\n",
        "if not os.path.isfile('data1.csv'):\n",
        "    # Create a file 'data1.csv' before reading it\n",
        "    # Read all the individual files from netflix dataset and store them in one big file('data1.csv')\n",
        "    data = open('data1.csv', mode='a')\n",
        "    \n",
        "    row = list()\n",
        "    files=['combined_data_1.txt','combined_data_2.txt', \n",
        "           'combined_data_3.txt', 'combined_data_4.txt']\n",
        "    for file in files:\n",
        "        print(\"Reading ratings from {}...\".format(file))\n",
        "        with open(file) as f:\n",
        "            for line in f: \n",
        "                del row[:]\n",
        "                line = line.strip()\n",
        "                if line.endswith(':'):\n",
        "                    # These are ratings for this movie, until another movie appears in the file.\n",
        "                    movie_id = line.replace(':', '')\n",
        "                else:\n",
        "                    row = [x for x in line.split(',')]\n",
        "                    row.insert(0, movie_id)\n",
        "                    data.write(','.join(row))\n",
        "                    data.write('\\n')\n",
        "    data.close()\n",
        "print('Time taken :', datetime.now() - start)"
      ],
      "execution_count": 5,
      "outputs": [
        {
          "output_type": "stream",
          "text": [
            "Time taken : 0:00:00.000740\n"
          ],
          "name": "stdout"
        }
      ]
    },
    {
      "cell_type": "code",
      "metadata": {
        "colab": {
          "base_uri": "https://localhost:8080/",
          "height": 289
        },
        "id": "niIG9pjiYPoA",
        "outputId": "cbf57949-9d06-4d56-dd11-499c3e2cb5f6"
      },
      "source": [
        "print(\"creating the pandas dataframe from data1.csv file..\")\n",
        "df = pd.read_csv('data1.csv', sep=',', \n",
        "                       names=['movie', 'user','rating','date'])\n",
        "df.date = pd.to_datetime(df.date)\n",
        "print('Done.\\n')\n",
        "\n",
        "print('Sorting the dataframe by user..')\n",
        "df.sort_values(by='user', inplace=True)\n",
        "print('Done..')\n",
        "\n",
        "df.head()"
      ],
      "execution_count": 6,
      "outputs": [
        {
          "output_type": "stream",
          "text": [
            "creating the pandas dataframe from data1.csv file..\n",
            "Done.\n",
            "\n",
            "Sorting the dataframe by user..\n",
            "Done..\n"
          ],
          "name": "stdout"
        },
        {
          "output_type": "execute_result",
          "data": {
            "text/html": [
              "<div>\n",
              "<style scoped>\n",
              "    .dataframe tbody tr th:only-of-type {\n",
              "        vertical-align: middle;\n",
              "    }\n",
              "\n",
              "    .dataframe tbody tr th {\n",
              "        vertical-align: top;\n",
              "    }\n",
              "\n",
              "    .dataframe thead th {\n",
              "        text-align: right;\n",
              "    }\n",
              "</style>\n",
              "<table border=\"1\" class=\"dataframe\">\n",
              "  <thead>\n",
              "    <tr style=\"text-align: right;\">\n",
              "      <th></th>\n",
              "      <th>movie</th>\n",
              "      <th>user</th>\n",
              "      <th>rating</th>\n",
              "      <th>date</th>\n",
              "    </tr>\n",
              "  </thead>\n",
              "  <tbody>\n",
              "    <tr>\n",
              "      <th>79334307</th>\n",
              "      <td>14358</td>\n",
              "      <td>6</td>\n",
              "      <td>2</td>\n",
              "      <td>2005-12-04</td>\n",
              "    </tr>\n",
              "    <tr>\n",
              "      <th>34092597</th>\n",
              "      <td>6134</td>\n",
              "      <td>6</td>\n",
              "      <td>4</td>\n",
              "      <td>2005-01-12</td>\n",
              "    </tr>\n",
              "    <tr>\n",
              "      <th>32652672</th>\n",
              "      <td>5926</td>\n",
              "      <td>6</td>\n",
              "      <td>4</td>\n",
              "      <td>2005-10-26</td>\n",
              "    </tr>\n",
              "    <tr>\n",
              "      <th>38173947</th>\n",
              "      <td>6797</td>\n",
              "      <td>6</td>\n",
              "      <td>3</td>\n",
              "      <td>2004-11-10</td>\n",
              "    </tr>\n",
              "    <tr>\n",
              "      <th>20618167</th>\n",
              "      <td>3905</td>\n",
              "      <td>6</td>\n",
              "      <td>3</td>\n",
              "      <td>2005-12-04</td>\n",
              "    </tr>\n",
              "  </tbody>\n",
              "</table>\n",
              "</div>"
            ],
            "text/plain": [
              "          movie  user  rating       date\n",
              "79334307  14358     6       2 2005-12-04\n",
              "34092597   6134     6       4 2005-01-12\n",
              "32652672   5926     6       4 2005-10-26\n",
              "38173947   6797     6       3 2004-11-10\n",
              "20618167   3905     6       3 2005-12-04"
            ]
          },
          "metadata": {
            "tags": []
          },
          "execution_count": 6
        }
      ]
    },
    {
      "cell_type": "code",
      "metadata": {
        "id": "IsWygVlhhIU3"
      },
      "source": [
        "#df.describe()"
      ],
      "execution_count": 7,
      "outputs": []
    },
    {
      "cell_type": "code",
      "metadata": {
        "colab": {
          "base_uri": "https://localhost:8080/"
        },
        "id": "D5S5csxJkGYO",
        "outputId": "f30f89f7-2922-44c4-a77c-af10c755b6d1"
      },
      "source": [
        "print(\"Total data \")\n",
        "print(\"-\"*50)\n",
        "print(\"\\nTotal no of ratings :\",df.shape[0])\n",
        "print(\"Total No of Users   :\", len(np.unique(df.user)))\n",
        "print(\"Total No of movies  :\", len(np.unique(df.movie)))"
      ],
      "execution_count": 8,
      "outputs": [
        {
          "output_type": "stream",
          "text": [
            "Total data \n",
            "--------------------------------------------------\n",
            "\n",
            "Total no of ratings : 100480507\n",
            "Total No of Users   : 480189\n",
            "Total No of movies  : 17770\n"
          ],
          "name": "stdout"
        }
      ]
    },
    {
      "cell_type": "code",
      "metadata": {
        "colab": {
          "base_uri": "https://localhost:8080/"
        },
        "id": "-sv4T0Vxktoj",
        "outputId": "7fd087e3-52ba-4715-99c4-01b2ba834478"
      },
      "source": [
        "no_of_rated_movies_per_user = df.groupby(by='user')['rating'].count().sort_values(ascending=False)\n",
        "\n",
        "no_of_rated_movies_per_user.head()"
      ],
      "execution_count": 9,
      "outputs": [
        {
          "output_type": "execute_result",
          "data": {
            "text/plain": [
              "user\n",
              "305344     17653\n",
              "387418     17436\n",
              "2439493    16565\n",
              "1664010    15813\n",
              "2118461    14831\n",
              "Name: rating, dtype: int64"
            ]
          },
          "metadata": {
            "tags": []
          },
          "execution_count": 9
        }
      ]
    },
    {
      "cell_type": "code",
      "metadata": {
        "colab": {
          "base_uri": "https://localhost:8080/"
        },
        "id": "BW3kYkDmmmlI",
        "outputId": "86f62a52-3a96-40ef-856a-aad65dc51fb3"
      },
      "source": [
        "no_of_rated_movies_per_user.describe()"
      ],
      "execution_count": 10,
      "outputs": [
        {
          "output_type": "execute_result",
          "data": {
            "text/plain": [
              "count    480189.000000\n",
              "mean        209.251997\n",
              "std         302.339155\n",
              "min           1.000000\n",
              "25%          39.000000\n",
              "50%          96.000000\n",
              "75%         259.000000\n",
              "max       17653.000000\n",
              "Name: rating, dtype: float64"
            ]
          },
          "metadata": {
            "tags": []
          },
          "execution_count": 10
        }
      ]
    },
    {
      "cell_type": "code",
      "metadata": {
        "colab": {
          "base_uri": "https://localhost:8080/"
        },
        "id": "v24g68Xsm9La",
        "outputId": "0f31f45e-d983-451d-c365-c9354b5f8680"
      },
      "source": [
        "no_of_ratings_per_movie = df.groupby(by='movie')['rating'].count().sort_values(ascending=False)\n",
        "no_of_ratings_per_movie.describe()"
      ],
      "execution_count": 11,
      "outputs": [
        {
          "output_type": "execute_result",
          "data": {
            "text/plain": [
              "count     17770.000000\n",
              "mean       5654.502364\n",
              "std       16909.673269\n",
              "min           3.000000\n",
              "25%         192.000000\n",
              "50%         561.000000\n",
              "75%        2667.750000\n",
              "max      232944.000000\n",
              "Name: rating, dtype: float64"
            ]
          },
          "metadata": {
            "tags": []
          },
          "execution_count": 11
        }
      ]
    },
    {
      "cell_type": "code",
      "metadata": {
        "id": "rxCmtCIsgwNl"
      },
      "source": [
        "from scipy import sparse\n",
        "from scipy.sparse import csr_matrix"
      ],
      "execution_count": 12,
      "outputs": []
    },
    {
      "cell_type": "code",
      "metadata": {
        "colab": {
          "base_uri": "https://localhost:8080/"
        },
        "id": "Sa7N2gPGOw1O",
        "outputId": "742ddb9c-f03a-46fc-f988-bb03d8adbb61"
      },
      "source": [
        "start = datetime.now()\n",
        "if os.path.isfile('all_sparse_matrix.npz'):\n",
        "    print(\"It is present in your pwd, will get it from disk....\")\n",
        "    # just get it from the disk instead of computing it\n",
        "    all_sparse_matrix = sparse.load_npz('all_sparse_matrix.npz')\n",
        "    print(\"Done..\")\n",
        "else: \n",
        "    print(\"We are creating sparse_matrix from the dataframe..\")\n",
        "    # create sparse_matrix and store it.\n",
        "    all_sparse_matrix = sparse.csr_matrix((df.rating.values, (df.user.values,\n",
        "                                               df.movie.values)),)\n",
        "    \n",
        "    print('Done. It\\'s shape is : (user, movie) : ',all_sparse_matrix.shape)\n",
        "    print('Saving it into disk..')\n",
        "    # save it into disk\n",
        "    sparse.save_npz(\"all_sparse_matrix.npz\", all_sparse_matrix)\n",
        "    print('Done..\\n')\n",
        "\n",
        "print(datetime.now() - start)"
      ],
      "execution_count": 13,
      "outputs": [
        {
          "output_type": "stream",
          "text": [
            "It is present in your pwd, will get it from disk....\n",
            "Done..\n",
            "0:00:07.790220\n"
          ],
          "name": "stdout"
        }
      ]
    },
    {
      "cell_type": "code",
      "metadata": {
        "colab": {
          "base_uri": "https://localhost:8080/"
        },
        "id": "0L5ZXFvHPfJ3",
        "outputId": "4f0bf686-49a4-403b-c687-e988f14a4b1d"
      },
      "source": [
        "us,mv = all_sparse_matrix.shape\n",
        "elem = all_sparse_matrix.count_nonzero()\n",
        "\n",
        "print(\"Sparsity Of All matrix is : {} % \".format(  (1-(elem/(us*mv))) * 100) )"
      ],
      "execution_count": 14,
      "outputs": [
        {
          "output_type": "stream",
          "text": [
            "Sparsity Of All matrix is : 99.78658865580644 % \n"
          ],
          "name": "stdout"
        }
      ]
    },
    {
      "cell_type": "code",
      "metadata": {
        "id": "_tLVd9iFPqUV"
      },
      "source": [
        "all_averages = dict()"
      ],
      "execution_count": 15,
      "outputs": []
    },
    {
      "cell_type": "code",
      "metadata": {
        "id": "i8xnb41RPwcX"
      },
      "source": [
        "def get_average_ratings(sparse_matrix, of_users):\n",
        "    \n",
        "    # average ratings of user\n",
        "    ax = 1 if of_users else 0 # 1 - User axes,0 - Movie axes\n",
        "\n",
        "    # \".A1\" is used to convert Column_Matrix to 1-D numpy array \n",
        "    sum_of_ratings = sparse_matrix.sum(axis=ax).A1\n",
        "    # Boolean matrix of ratings ( A user rated that movie or not)\n",
        "    is_rated = sparse_matrix!=0\n",
        "    no_of_ratings = is_rated.sum(axis=ax).A1\n",
        "    \n",
        "    # max_user, max_movie ids in sparse matrix \n",
        "    u,m = sparse_matrix.shape\n",
        "    # Dictonary of users and their average ratigns.\n",
        "    average_ratings = { i : sum_of_ratings[i]/no_of_ratings[i]\n",
        "                                 for i in range(u if of_users else m) \n",
        "                                    if no_of_ratings[i] !=0}\n",
        "    return average_ratings"
      ],
      "execution_count": 16,
      "outputs": []
    },
    {
      "cell_type": "code",
      "metadata": {
        "colab": {
          "base_uri": "https://localhost:8080/"
        },
        "id": "oxvsleRUP0mK",
        "outputId": "292a57d7-15e6-4e64-d271-08de74895680"
      },
      "source": [
        "# Global average of ratings in our dataset\n",
        "all_global_average = all_sparse_matrix.sum()/all_sparse_matrix.count_nonzero()\n",
        "all_averages['global'] = all_global_average\n",
        "all_averages"
      ],
      "execution_count": 17,
      "outputs": [
        {
          "output_type": "execute_result",
          "data": {
            "text/plain": [
              "{'global': 3.604289964420661}"
            ]
          },
          "metadata": {
            "tags": []
          },
          "execution_count": 17
        }
      ]
    },
    {
      "cell_type": "code",
      "metadata": {
        "colab": {
          "base_uri": "https://localhost:8080/"
        },
        "id": "GZSX4NHVQbCv",
        "outputId": "8119815d-d270-4826-d9e1-ddd1ef6aeef1"
      },
      "source": [
        "all_averages['user'] = get_average_ratings(all_sparse_matrix, of_users=True)\n",
        "print('\\nAverage rating of user 25 :',all_averages['user'][25])"
      ],
      "execution_count": 18,
      "outputs": [
        {
          "output_type": "stream",
          "text": [
            "\n",
            "Average rating of user 25 : 3.4814814814814814\n"
          ],
          "name": "stdout"
        }
      ]
    },
    {
      "cell_type": "code",
      "metadata": {
        "colab": {
          "base_uri": "https://localhost:8080/"
        },
        "id": "l1AYK9AmQ4Va",
        "outputId": "a13de389-f97f-4e8e-de26-5681be1aa72f"
      },
      "source": [
        "all_averages['movie'] =  get_average_ratings(all_sparse_matrix, of_users=False)\n",
        "print('\\n AVerage rating of movie 35 :',all_averages['movie'][35])"
      ],
      "execution_count": 19,
      "outputs": [
        {
          "output_type": "stream",
          "text": [
            "\n",
            " AVerage rating of movie 35 : 3.1454112038140645\n"
          ],
          "name": "stdout"
        }
      ]
    },
    {
      "cell_type": "code",
      "metadata": {
        "id": "CddizNSvKZqr"
      },
      "source": [
        "df1 = df[df['rating']>2]"
      ],
      "execution_count": 20,
      "outputs": []
    },
    {
      "cell_type": "code",
      "metadata": {
        "colab": {
          "base_uri": "https://localhost:8080/"
        },
        "id": "_aOnLSZMK13J",
        "outputId": "3df7e9cb-5815-435a-c222-46caa27b223f"
      },
      "source": [
        "print(\"\\nTotal no of ratings :\",df1.shape[0])\n",
        "print(\"Total No of Users   :\", len(np.unique(df1.user)))\n",
        "print(\"Total No of movies  :\", len(np.unique(df1.movie)))"
      ],
      "execution_count": 21,
      "outputs": [
        {
          "output_type": "stream",
          "text": [
            "\n",
            "Total no of ratings : 85730437\n",
            "Total No of Users   : 479760\n",
            "Total No of movies  : 17770\n"
          ],
          "name": "stdout"
        }
      ]
    }
  ]
}