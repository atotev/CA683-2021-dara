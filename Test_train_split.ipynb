{
  "nbformat": 4,
  "nbformat_minor": 0,
  "metadata": {
    "colab": {
      "name": "Test_train_split.ipynb",
      "provenance": []
    },
    "kernelspec": {
      "name": "python3",
      "display_name": "Python 3"
    },
    "language_info": {
      "name": "python"
    }
  },
  "cells": [
    {
      "cell_type": "markdown",
      "metadata": {
        "id": "cRTtiElwZ5oK"
      },
      "source": [
        "###**Part 3: EDA on train & test set**"
      ]
    },
    {
      "cell_type": "code",
      "metadata": {
        "id": "RCGnQmk7Ij-6"
      },
      "source": [
        "# this is just to know how much time will it take to run this entire ipython notebook \n",
        "from datetime import datetime\n",
        "# globalstart = datetime.now()\n",
        "import pandas as pd\n",
        "import numpy as np\n",
        "import matplotlib\n",
        "matplotlib.use('nbagg')\n",
        "\n",
        "import matplotlib.pyplot as plt\n",
        "plt.rcParams.update({'figure.max_open_warning': 0})\n",
        "\n",
        "import seaborn as sns\n",
        "sns.set_style('whitegrid')\n",
        "import os\n",
        "from scipy import sparse\n",
        "from scipy.sparse import csr_matrix\n",
        "\n",
        "from sklearn.decomposition import TruncatedSVD\n",
        "from sklearn.metrics.pairwise import cosine_similarity\n",
        "import random"
      ],
      "execution_count": null,
      "outputs": []
    },
    {
      "cell_type": "code",
      "metadata": {
        "colab": {
          "base_uri": "https://localhost:8080/"
        },
        "id": "T7JEIv3KIy5B",
        "outputId": "93cc7acd-7ffa-4a2b-bdea-2a17fa5a2c76"
      },
      "source": [
        "from google.colab import drive\n",
        "drive.mount('/content/drive')"
      ],
      "execution_count": null,
      "outputs": [
        {
          "output_type": "stream",
          "text": [
            "Mounted at /content/drive\n"
          ],
          "name": "stdout"
        }
      ]
    },
    {
      "cell_type": "code",
      "metadata": {
        "id": "ua7YmmgNIpjT"
      },
      "source": [
        "train_df = pd.read_csv(\"/content/drive/My Drive/netflix/train.csv\", parse_dates=['date'])\n",
        "test_df = pd.read_csv(\"/content/drive/My Drive/netflix/test.csv\")"
      ],
      "execution_count": null,
      "outputs": []
    },
    {
      "cell_type": "markdown",
      "metadata": {
        "id": "dOR0Bpq_KXAg"
      },
      "source": [
        "###4.4 Adding new column 'Weekday' "
      ]
    },
    {
      "cell_type": "code",
      "metadata": {
        "colab": {
          "base_uri": "https://localhost:8080/",
          "height": 191
        },
        "id": "YpljM-npKlLm",
        "outputId": "d9644880-ee1c-40d3-9ef9-c39bc7f2021b"
      },
      "source": [
        "# It is used to skip the warning ''SettingWithCopyWarning''.. \n",
        "pd.options.mode.chained_assignment = None  # default='warn'\n",
        "\n",
        "train_df['day_of_week'] = train_df.date.dt.day_name()\n",
        "\n",
        "train_df.tail()"
      ],
      "execution_count": null,
      "outputs": [
        {
          "output_type": "execute_result",
          "data": {
            "text/html": [
              "<div>\n",
              "<style scoped>\n",
              "    .dataframe tbody tr th:only-of-type {\n",
              "        vertical-align: middle;\n",
              "    }\n",
              "\n",
              "    .dataframe tbody tr th {\n",
              "        vertical-align: top;\n",
              "    }\n",
              "\n",
              "    .dataframe thead th {\n",
              "        text-align: right;\n",
              "    }\n",
              "</style>\n",
              "<table border=\"1\" class=\"dataframe\">\n",
              "  <thead>\n",
              "    <tr style=\"text-align: right;\">\n",
              "      <th></th>\n",
              "      <th>movie</th>\n",
              "      <th>user</th>\n",
              "      <th>rating</th>\n",
              "      <th>date</th>\n",
              "      <th>day_of_week</th>\n",
              "    </tr>\n",
              "  </thead>\n",
              "  <tbody>\n",
              "    <tr>\n",
              "      <th>80384400</th>\n",
              "      <td>12074</td>\n",
              "      <td>2033618</td>\n",
              "      <td>4</td>\n",
              "      <td>2005-08-08</td>\n",
              "      <td>Monday</td>\n",
              "    </tr>\n",
              "    <tr>\n",
              "      <th>80384401</th>\n",
              "      <td>862</td>\n",
              "      <td>1797061</td>\n",
              "      <td>3</td>\n",
              "      <td>2005-08-08</td>\n",
              "      <td>Monday</td>\n",
              "    </tr>\n",
              "    <tr>\n",
              "      <th>80384402</th>\n",
              "      <td>10986</td>\n",
              "      <td>1498715</td>\n",
              "      <td>5</td>\n",
              "      <td>2005-08-08</td>\n",
              "      <td>Monday</td>\n",
              "    </tr>\n",
              "    <tr>\n",
              "      <th>80384403</th>\n",
              "      <td>14861</td>\n",
              "      <td>500016</td>\n",
              "      <td>4</td>\n",
              "      <td>2005-08-08</td>\n",
              "      <td>Monday</td>\n",
              "    </tr>\n",
              "    <tr>\n",
              "      <th>80384404</th>\n",
              "      <td>5926</td>\n",
              "      <td>1044015</td>\n",
              "      <td>5</td>\n",
              "      <td>2005-08-08</td>\n",
              "      <td>Monday</td>\n",
              "    </tr>\n",
              "  </tbody>\n",
              "</table>\n",
              "</div>"
            ],
            "text/plain": [
              "          movie     user  rating       date day_of_week\n",
              "80384400  12074  2033618       4 2005-08-08      Monday\n",
              "80384401    862  1797061       3 2005-08-08      Monday\n",
              "80384402  10986  1498715       5 2005-08-08      Monday\n",
              "80384403  14861   500016       4 2005-08-08      Monday\n",
              "80384404   5926  1044015       5 2005-08-08      Monday"
            ]
          },
          "metadata": {
            "tags": []
          },
          "execution_count": 4
        }
      ]
    },
    {
      "cell_type": "code",
      "metadata": {
        "id": "W3FiurYYcJEs"
      },
      "source": [
        "# method to make y-axis more readable\n",
        "def human(num, units = 'M'):\n",
        "    units = units.lower()\n",
        "    num = float(num)\n",
        "    if units == 'k':\n",
        "        return str(num/10**3) + \" K\"\n",
        "    elif units == 'm':\n",
        "        return str(num/10**6) + \" M\"\n",
        "    elif units == 'b':\n",
        "        return str(num/10**9) +  \" B\""
      ],
      "execution_count": null,
      "outputs": []
    },
    {
      "cell_type": "markdown",
      "metadata": {
        "id": "MpPmN46KMA-G"
      },
      "source": [
        "###4.5 Analysing the number of ratings per month"
      ]
    },
    {
      "cell_type": "code",
      "metadata": {
        "colab": {
          "base_uri": "https://localhost:8080/",
          "height": 295
        },
        "id": "dE1tmb6gbbxS",
        "outputId": "e9a72017-61b1-4f83-d082-ed0fe9f509d3"
      },
      "source": [
        "ax = train_df.resample('m', on='date')['rating'].count().plot()\n",
        "ax.set_title('No of ratings per month (Training data)')\n",
        "plt.xlabel('Month')\n",
        "plt.ylabel('No of ratings(per month)')\n",
        "ax.set_yticklabels([human(item, 'M') for item in ax.get_yticks()])\n",
        "plt.grid(None)\n",
        "plt.show()"
      ],
      "execution_count": null,
      "outputs": [
        {
          "output_type": "display_data",
          "data": {
            "image/png": "[encoded data removed]",
            "text/plain": [
              "<Figure size 432x288 with 1 Axes>"
            ]
          },
          "metadata": {
            "tags": [],
            "needs_background": "light"
          }
        }
      ]
    },
    {
      "cell_type": "markdown",
      "metadata": {
        "id": "gVsKIRnecaD-"
      },
      "source": [
        "###4.6 Analysing the number of ratings given by a user"
      ]
    },
    {
      "cell_type": "code",
      "metadata": {
        "colab": {
          "base_uri": "https://localhost:8080/"
        },
        "id": "3aUjG_XOcaQU",
        "outputId": "2c1493ab-c21f-4a2c-94bb-ef06dc704bd6"
      },
      "source": [
        "no_of_rated_movies_per_user = train_df.groupby(by='user')['rating'].count().sort_values(ascending=False)\n",
        "\n",
        "no_of_rated_movies_per_user.head()"
      ],
      "execution_count": null,
      "outputs": [
        {
          "output_type": "execute_result",
          "data": {
            "text/plain": [
              "user\n",
              "305344     17112\n",
              "2439493    15896\n",
              "387418     15402\n",
              "1639792     9767\n",
              "1461435     9447\n",
              "Name: rating, dtype: int64"
            ]
          },
          "metadata": {
            "tags": []
          },
          "execution_count": 8
        }
      ]
    },
    {
      "cell_type": "code",
      "metadata": {
        "colab": {
          "base_uri": "https://localhost:8080/"
        },
        "id": "FKgJGaJWctxh",
        "outputId": "fd80ff7a-96a7-4ed3-95ff-163f465577d8"
      },
      "source": [
        "no_of_rated_movies_per_user.describe()"
      ],
      "execution_count": null,
      "outputs": [
        {
          "output_type": "execute_result",
          "data": {
            "text/plain": [
              "count    405041.000000\n",
              "mean        198.459921\n",
              "std         290.793238\n",
              "min           1.000000\n",
              "25%          34.000000\n",
              "50%          89.000000\n",
              "75%         245.000000\n",
              "max       17112.000000\n",
              "Name: rating, dtype: float64"
            ]
          },
          "metadata": {
            "tags": []
          },
          "execution_count": 8
        }
      ]
    },
    {
      "cell_type": "markdown",
      "metadata": {
        "id": "78HMQ3-wdqB_"
      },
      "source": [
        "###4.7 Analysing the number of ratings that a movie got by users"
      ]
    },
    {
      "cell_type": "code",
      "metadata": {
        "colab": {
          "base_uri": "https://localhost:8080/",
          "height": 290
        },
        "id": "AZmuDyg-cva9",
        "outputId": "b3f1ec30-9306-45f6-91bf-e1a2d27c92a9"
      },
      "source": [
        "no_of_ratings_per_movie = train_df.groupby(by='movie')['rating'].count().sort_values(ascending=False)\n",
        "\n",
        "fig = plt.figure(figsize=plt.figaspect(.5))\n",
        "ax = plt.gca()\n",
        "plt.plot(no_of_ratings_per_movie.values)\n",
        "plt.title('Ratings per movie', fontsize=15)\n",
        "plt.xlabel('Movie', fontsize=13)\n",
        "plt.ylabel('No of Users who rated a movie', fontsize=12)\n",
        "ax.set_xticklabels([])\n",
        "plt.grid(None)\n",
        "\n",
        "plt.show()"
      ],
      "execution_count": null,
      "outputs": [
        {
          "output_type": "display_data",
          "data": {
            "image/png": "[encoded data removed]",
            "text/plain": [
              "<Figure size 576x288 with 1 Axes>"
            ]
          },
          "metadata": {
            "tags": [],
            "needs_background": "light"
          }
        }
      ]
    },
    {
      "cell_type": "markdown",
      "metadata": {
        "id": "_8DTSAsOhS-S"
      },
      "source": [
        "\n",
        "\n",
        "*   Results are very skewed\n",
        "*   There are some popular movies are rated by a huge number of users \n",
        "*   But most of the movies (90% roughly) got hundreds of ratings\n",
        "\n"
      ]
    },
    {
      "cell_type": "markdown",
      "metadata": {
        "id": "-1VaTJyEi0xu"
      },
      "source": [
        "###4.8 Analysing the number of ratings on each day of the week"
      ]
    },
    {
      "cell_type": "code",
      "metadata": {
        "colab": {
          "base_uri": "https://localhost:8080/",
          "height": 281
        },
        "id": "orpE5CS9iKaW",
        "outputId": "cd2b3648-888e-4a88-d8a2-6dafb980e7f2"
      },
      "source": [
        "fig, ax = plt.subplots()\n",
        "sns.countplot(x='day_of_week', data=train_df, ax=ax)\n",
        "plt.title('No of ratings on each day...')\n",
        "plt.ylabel('Total no of ratings')\n",
        "plt.xlabel('')\n",
        "ax.set_yticklabels([human(item, 'M') for item in ax.get_yticks()])\n",
        "plt.show()"
      ],
      "execution_count": null,
      "outputs": [
        {
          "output_type": "display_data",
          "data": {
            "image/png": "[encoded data removed]",
            "text/plain": [
              "<Figure size 432x288 with 1 Axes>"
            ]
          },
          "metadata": {
            "tags": [],
            "needs_background": "light"
          }
        }
      ]
    },
    {
      "cell_type": "markdown",
      "metadata": {
        "id": "PQ7fEJPkIzfz"
      },
      "source": [
        "###4.9 Average ratings on day of the week"
      ]
    },
    {
      "cell_type": "code",
      "metadata": {
        "colab": {
          "base_uri": "https://localhost:8080/"
        },
        "id": "1iyE_id7jJ5U",
        "outputId": "188d91dc-ca00-4747-9e34-ed6c57b35156"
      },
      "source": [
        "avg_week_df = train_df.groupby(by=['day_of_week'])['rating'].mean()\n",
        "print(\" AVerage ratings\")\n",
        "print(\"-\"*30)\n",
        "print(avg_week_df)\n",
        "print(\"\\n\")"
      ],
      "execution_count": null,
      "outputs": [
        {
          "output_type": "stream",
          "text": [
            " AVerage ratings\n",
            "------------------------------\n",
            "day_of_week\n",
            "Friday       3.585274\n",
            "Monday       3.577250\n",
            "Saturday     3.591791\n",
            "Sunday       3.594144\n",
            "Thursday     3.582463\n",
            "Tuesday      3.574438\n",
            "Wednesday    3.583751\n",
            "Name: rating, dtype: float64\n",
            "\n",
            "\n"
          ],
          "name": "stdout"
        }
      ]
    }
  ]
}