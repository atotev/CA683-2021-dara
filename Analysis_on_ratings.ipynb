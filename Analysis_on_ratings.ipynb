{
  "nbformat": 4,
  "nbformat_minor": 0,
  "metadata": {
    "colab": {
      "name": "Analysis_on_ratings.ipynb",
      "provenance": []
    },
    "kernelspec": {
      "name": "python3",
      "display_name": "Python 3"
    },
    "language_info": {
      "name": "python"
    }
  },
  "cells": [
    {
      "cell_type": "markdown",
      "metadata": {
        "id": "sSBZ4VXYq41R"
      },
      "source": [
        "###**Part 2: EDA on whole dataset & Splitting into Train/Test**"
      ]
    },
    {
      "cell_type": "code",
      "metadata": {
        "colab": {
          "base_uri": "https://localhost:8080/"
        },
        "id": "gWsOWwkblDzy",
        "outputId": "564ad1da-e152-4d58-e9af-36b3b3ef2175"
      },
      "source": [
        "from google.colab import drive\n",
        "drive.mount('/content/drive')"
      ],
      "execution_count": null,
      "outputs": [
        {
          "output_type": "stream",
          "text": [
            "Mounted at /content/drive\n"
          ],
          "name": "stdout"
        }
      ]
    },
    {
      "cell_type": "code",
      "metadata": {
        "id": "YZlr1L12l7vT"
      },
      "source": [
        "# this is just to know how much time will it take to run this entire ipython notebook \n",
        "from datetime import datetime\n",
        "# globalstart = datetime.now()\n",
        "import pandas as pd\n",
        "import numpy as np\n",
        "import matplotlib\n",
        "matplotlib.use('nbagg')\n",
        "\n",
        "import matplotlib.pyplot as plt\n",
        "plt.rcParams.update({'figure.max_open_warning': 0})\n",
        "\n",
        "import seaborn as sns\n",
        "sns.set_style('whitegrid')\n",
        "import os\n",
        "from scipy import sparse\n",
        "from scipy.sparse import csr_matrix\n",
        "\n",
        "from sklearn.decomposition import TruncatedSVD\n",
        "from sklearn.metrics.pairwise import cosine_similarity\n",
        "import random"
      ],
      "execution_count": null,
      "outputs": []
    },
    {
      "cell_type": "code",
      "metadata": {
        "id": "5H1zzwchmAsw"
      },
      "source": [
        "%matplotlib inline"
      ],
      "execution_count": null,
      "outputs": []
    },
    {
      "cell_type": "code",
      "metadata": {
        "colab": {
          "base_uri": "https://localhost:8080/"
        },
        "id": "esp7JJ6JmGOE",
        "outputId": "5c9020f9-5e7c-4f62-e98d-f858622358b0"
      },
      "source": [
        "print(\"creating the dataframe from alldata.csv file..\")\n",
        "df = pd.read_csv('/content/drive//My Drive/netflix/alldata.csv', sep=',', names=['movie', 'user','rating','date'])\n",
        "df.date = pd.to_datetime(df.date)\n",
        "print('Done.\\n')\n",
        "\n",
        "# we are arranging the ratings according to time.\n",
        "print('Sorting the dataframe by date..')\n",
        "df.sort_values(by='date', inplace=True)\n",
        "print('Done..')"
      ],
      "execution_count": null,
      "outputs": [
        {
          "output_type": "stream",
          "text": [
            "creating the dataframe from alldata.csv file..\n",
            "Done.\n",
            "\n",
            "Sorting the dataframe by date..\n",
            "Done..\n"
          ],
          "name": "stdout"
        }
      ]
    },
    {
      "cell_type": "code",
      "metadata": {
        "colab": {
          "base_uri": "https://localhost:8080/",
          "height": 198
        },
        "id": "WFYE6YsUmS5e",
        "outputId": "21bd9dca-4d49-4198-b53a-51437bf7423b"
      },
      "source": [
        "df.head()"
      ],
      "execution_count": null,
      "outputs": [
        {
          "output_type": "execute_result",
          "data": {
            "text/html": [
              "<div>\n",
              "<style scoped>\n",
              "    .dataframe tbody tr th:only-of-type {\n",
              "        vertical-align: middle;\n",
              "    }\n",
              "\n",
              "    .dataframe tbody tr th {\n",
              "        vertical-align: top;\n",
              "    }\n",
              "\n",
              "    .dataframe thead th {\n",
              "        text-align: right;\n",
              "    }\n",
              "</style>\n",
              "<table border=\"1\" class=\"dataframe\">\n",
              "  <thead>\n",
              "    <tr style=\"text-align: right;\">\n",
              "      <th></th>\n",
              "      <th>movie</th>\n",
              "      <th>user</th>\n",
              "      <th>rating</th>\n",
              "      <th>date</th>\n",
              "    </tr>\n",
              "  </thead>\n",
              "  <tbody>\n",
              "    <tr>\n",
              "      <th>56431994</th>\n",
              "      <td>10341</td>\n",
              "      <td>510180</td>\n",
              "      <td>4</td>\n",
              "      <td>1999-11-11</td>\n",
              "    </tr>\n",
              "    <tr>\n",
              "      <th>9056171</th>\n",
              "      <td>1798</td>\n",
              "      <td>510180</td>\n",
              "      <td>5</td>\n",
              "      <td>1999-11-11</td>\n",
              "    </tr>\n",
              "    <tr>\n",
              "      <th>58698779</th>\n",
              "      <td>10774</td>\n",
              "      <td>510180</td>\n",
              "      <td>3</td>\n",
              "      <td>1999-11-11</td>\n",
              "    </tr>\n",
              "    <tr>\n",
              "      <th>48101611</th>\n",
              "      <td>8651</td>\n",
              "      <td>510180</td>\n",
              "      <td>2</td>\n",
              "      <td>1999-11-11</td>\n",
              "    </tr>\n",
              "    <tr>\n",
              "      <th>81893208</th>\n",
              "      <td>14660</td>\n",
              "      <td>510180</td>\n",
              "      <td>2</td>\n",
              "      <td>1999-11-11</td>\n",
              "    </tr>\n",
              "  </tbody>\n",
              "</table>\n",
              "</div>"
            ],
            "text/plain": [
              "          movie    user  rating       date\n",
              "56431994  10341  510180       4 1999-11-11\n",
              "9056171    1798  510180       5 1999-11-11\n",
              "58698779  10774  510180       3 1999-11-11\n",
              "48101611   8651  510180       2 1999-11-11\n",
              "81893208  14660  510180       2 1999-11-11"
            ]
          },
          "metadata": {
            "tags": []
          },
          "execution_count": 7
        }
      ]
    },
    {
      "cell_type": "code",
      "metadata": {
        "colab": {
          "base_uri": "https://localhost:8080/"
        },
        "id": "m7tM5KkOmWQp",
        "outputId": "d564bde5-b766-406a-a366-51ec3bd0c18a"
      },
      "source": [
        "df.describe()['rating']"
      ],
      "execution_count": null,
      "outputs": [
        {
          "output_type": "execute_result",
          "data": {
            "text/plain": [
              "count    1.004805e+08\n",
              "mean     3.604290e+00\n",
              "std      1.085219e+00\n",
              "min      1.000000e+00\n",
              "25%      3.000000e+00\n",
              "50%      4.000000e+00\n",
              "75%      4.000000e+00\n",
              "max      5.000000e+00\n",
              "Name: rating, dtype: float64"
            ]
          },
          "metadata": {
            "tags": []
          },
          "execution_count": 5
        }
      ]
    },
    {
      "cell_type": "markdown",
      "metadata": {
        "id": "wCfnSHjmq7Rr"
      },
      "source": [
        "### 3.1 Checking for Nan values"
      ]
    },
    {
      "cell_type": "code",
      "metadata": {
        "colab": {
          "base_uri": "https://localhost:8080/"
        },
        "id": "4sIq9pQVq7dL",
        "outputId": "4938cf82-3c42-4ad2-9f2c-397cf5cb2d40"
      },
      "source": [
        "# just to make sure that all Nan containing rows are deleted..\n",
        "print(\"No of Nan values in our dataframe : \", sum(df.isnull().any()))"
      ],
      "execution_count": null,
      "outputs": [
        {
          "output_type": "stream",
          "text": [
            "No of Nan values in our dataframe :  0\n"
          ],
          "name": "stdout"
        }
      ]
    },
    {
      "cell_type": "markdown",
      "metadata": {
        "id": "N-bRucymncch"
      },
      "source": [
        "### 3.2 Removing Duplicates"
      ]
    },
    {
      "cell_type": "code",
      "metadata": {
        "colab": {
          "base_uri": "https://localhost:8080/"
        },
        "id": "hykjdzHirIuz",
        "outputId": "02e4c11a-5edc-40c3-a394-37044c7a3567"
      },
      "source": [
        "dup_bool = df.duplicated(['movie','user','rating'])\n",
        "dups = sum(dup_bool) # by considering all columns..( including timestamp)\n",
        "print(\"There are {} duplicate rating entries in the data..\".format(dups))"
      ],
      "execution_count": null,
      "outputs": [
        {
          "output_type": "stream",
          "text": [
            "There are 0 duplicate rating entries in the data..\n"
          ],
          "name": "stdout"
        }
      ]
    },
    {
      "cell_type": "markdown",
      "metadata": {
        "id": "ynyt-t1DrO8u"
      },
      "source": [
        "### 3.3 Basic Data Statistics"
      ]
    },
    {
      "cell_type": "code",
      "metadata": {
        "colab": {
          "base_uri": "https://localhost:8080/"
        },
        "id": "y8BOVMjOrPuP",
        "outputId": "e2ea11ee-5cc3-4549-d6aa-1ec55bbc0e94"
      },
      "source": [
        "print(\"Total data \")\n",
        "print(\"-\"*50)\n",
        "print(\"\\nTotal no of ratings :\",df.shape[0])\n",
        "print(\"Total No of Users   :\", len(np.unique(df.user)))\n",
        "print(\"Total No of movies  :\", len(np.unique(df.movie)))"
      ],
      "execution_count": null,
      "outputs": [
        {
          "output_type": "stream",
          "text": [
            "Total data \n",
            "--------------------------------------------------\n",
            "\n",
            "Total no of ratings : 100480507\n",
            "Total No of Users   : 480189\n",
            "Total No of movies  : 17770\n"
          ],
          "name": "stdout"
        }
      ]
    },
    {
      "cell_type": "markdown",
      "metadata": {
        "id": "UhmtzZDVrSv9"
      },
      "source": [
        "###**4. Train and Test Data (80:20)**"
      ]
    },
    {
      "cell_type": "code",
      "metadata": {
        "id": "bD7IPS3draCu"
      },
      "source": [
        "if not os.path.isfile('train.csv'):\n",
        "    # create the dataframe and store it in the disk for offline purposes..\n",
        "    df.iloc[:int(df.shape[0]*0.80)].to_csv(\"train.csv\", index=False)\n",
        "\n",
        "if not os.path.isfile('test.csv'):\n",
        "    # create the dataframe and store it in the disk for offline purposes..\n",
        "    df.iloc[int(df.shape[0]*0.80):].to_csv(\"test.csv\", index=False)\n",
        "\n",
        "train_df = pd.read_csv(\"train.csv\", parse_dates=['date'])\n",
        "test_df = pd.read_csv(\"test.csv\")"
      ],
      "execution_count": null,
      "outputs": []
    },
    {
      "cell_type": "markdown",
      "metadata": {
        "id": "TjaAZkGBr_dM"
      },
      "source": [
        "### 4.1 Statistics on train dataset"
      ]
    },
    {
      "cell_type": "code",
      "metadata": {
        "colab": {
          "base_uri": "https://localhost:8080/"
        },
        "id": "A6sl5pFdsB3_",
        "outputId": "6787eaa3-67f2-4f4c-a204-960754adcca7"
      },
      "source": [
        "# movies = train_df.movie.value_counts()\n",
        "# users = train_df.user.value_counts()\n",
        "print(\"Training data \")\n",
        "print(\"-\"*50)\n",
        "print(\"\\nTotal no of ratings :\",train_df.shape[0])\n",
        "print(\"Total No of Users   :\", len(np.unique(train_df.user)))\n",
        "print(\"Total No of movies  :\", len(np.unique(train_df.movie)))"
      ],
      "execution_count": null,
      "outputs": [
        {
          "output_type": "stream",
          "text": [
            "Training data \n",
            "--------------------------------------------------\n",
            "\n",
            "Total no of ratings : 80384405\n",
            "Total No of Users   : 405041\n",
            "Total No of movies  : 17424\n"
          ],
          "name": "stdout"
        }
      ]
    },
    {
      "cell_type": "markdown",
      "metadata": {
        "id": "-rOnxWaqsEij"
      },
      "source": [
        "### 4.2 Statistics on test dataset"
      ]
    },
    {
      "cell_type": "code",
      "metadata": {
        "colab": {
          "base_uri": "https://localhost:8080/"
        },
        "id": "FVJFrMFAsHFy",
        "outputId": "98824313-108e-4cb8-be80-480069d01d5d"
      },
      "source": [
        "print(\"Test data \")\n",
        "print(\"-\"*50)\n",
        "print(\"\\nTotal no of ratings :\",test_df.shape[0])\n",
        "print(\"Total No of Users   :\", len(np.unique(test_df.user)))\n",
        "print(\"Total No of movies  :\", len(np.unique(test_df.movie)))"
      ],
      "execution_count": null,
      "outputs": [
        {
          "output_type": "stream",
          "text": [
            "Test data \n",
            "--------------------------------------------------\n",
            "\n",
            "Total no of ratings : 20096102\n",
            "Total No of Users   : 349312\n",
            "Total No of movies  : 17757\n"
          ],
          "name": "stdout"
        }
      ]
    },
    {
      "cell_type": "markdown",
      "metadata": {
        "id": "aahZSpyPsJyu"
      },
      "source": [
        "### 4.3 EDA on train dataset"
      ]
    },
    {
      "cell_type": "code",
      "metadata": {
        "id": "CLA8G1bysOFT"
      },
      "source": [
        "# method to make y-axis more readable\n",
        "def human(num, units = 'M'):\n",
        "    units = units.lower()\n",
        "    num = float(num)\n",
        "    if units == 'k':\n",
        "        return str(num/10**3) + \" K\"\n",
        "    elif units == 'm':\n",
        "        return str(num/10**6) + \" M\"\n",
        "    elif units == 'b':\n",
        "        return str(num/10**9) +  \" B\""
      ],
      "execution_count": null,
      "outputs": []
    },
    {
      "cell_type": "markdown",
      "metadata": {
        "id": "qhFN534QsVqz"
      },
      "source": [
        "#### 4.3.1 Distribution of ratings"
      ]
    },
    {
      "cell_type": "code",
      "metadata": {
        "colab": {
          "base_uri": "https://localhost:8080/",
          "height": 526
        },
        "id": "38j4VUKDsYWk",
        "outputId": "ee91d873-0c36-4abb-eafb-42d84f62026b"
      },
      "source": [
        "fig, ax = plt.subplots()\n",
        "plt.title('Distribution of ratings over Training dataset', fontsize=15)\n",
        "sns.countplot(train_df.rating)\n",
        "ax.set_yticklabels([human(item, 'M') for item in ax.get_yticks()])\n",
        "ax.set_ylabel('No. of Ratings(Millions)')\n",
        "plt.show()"
      ],
      "execution_count": null,
      "outputs": [
        {
          "output_type": "stream",
          "text": [
            "/usr/local/lib/python3.7/dist-packages/seaborn/_decorators.py:43: FutureWarning: Pass the following variable as a keyword arg: x. From version 0.12, the only valid positional argument will be `data`, and passing other arguments without an explicit keyword will result in an error or misinterpretation.\n",
            "  FutureWarning\n"
          ],
          "name": "stderr"
        },
        {
          "output_type": "display_data",
          "data": {
            "image/png": "[encoded data removed]",
            "text/plain": [
              "<Figure size 640x480 with 1 Axes>"
            ]
          },
          "metadata": {
            "tags": []
          }
        }
      ]
    },
    {
      "cell_type": "code",
      "metadata": {
        "id": "ZfyB_jtzomLd"
      },
      "source": [
        ""
      ],
      "execution_count": null,
      "outputs": []
    }
  ]
}