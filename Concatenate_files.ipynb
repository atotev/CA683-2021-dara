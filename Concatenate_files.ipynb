{
  "nbformat": 4,
  "nbformat_minor": 0,
  "metadata": {
    "colab": {
      "name": "Concatenate_files.ipynb",
      "provenance": []
    },
    "kernelspec": {
      "name": "python3",
      "display_name": "Python 3"
    },
    "language_info": {
      "name": "python"
    }
  },
  "cells": [
    {
      "cell_type": "markdown",
      "metadata": {
        "id": "RR2ql0wPoDez"
      },
      "source": [
        "# **CA683 Data Mining Assignment - Group 34**"
      ]
    },
    {
      "cell_type": "markdown",
      "metadata": {
        "id": "xGNEPyKHoQgp"
      },
      "source": [
        "## Netflix Prize"
      ]
    },
    {
      "cell_type": "markdown",
      "metadata": {
        "id": "b8y7cia3pOVD"
      },
      "source": [
        "### **Problem Description**\n",
        "#### To develop a collaborative filtering algorithm to predict user ratings for films\n",
        "\n",
        "#### **Objectives:**\n",
        "#### 1. Predict the rating that a user would give to a movie he/she has not yet rated. \n",
        "#### 2. Minimise the difference between predicted and actual ratings (RMSE)"
      ]
    },
    {
      "cell_type": "markdown",
      "metadata": {
        "id": "1HEvTCAjwGTy"
      },
      "source": [
        "### **Data**\n",
        "\n",
        "#### Found at https://www.kaggle.com/netflix-inc/netflix-prize-data\n",
        "\n",
        "*   combined_data_1.txt\n",
        "*   combined_data_2.txt\n",
        "*   combined_data_3.txt\n",
        "*   combined_data_4.txt\n",
        "*   movie_titles.csv\n",
        "\n",
        " \n",
        "\n",
        "##### The first line of each file contains the movie id followed by a colon. \n",
        "##### Each subsequent line in the file corresponds to a rating from a customer and its date in the following format:\n",
        "\n",
        "##### CustomerID,Rating,Date\n",
        "\n",
        "*   MovieIDs range from 1 to 17770 sequentially.\n",
        "*   CustomerIDs range from 1 to 2649429, with gaps. \n",
        "*   There are 480189 users.\n",
        "*   Ratings are on a five star (integral) scale from 1 to 5.\n",
        "*   Dates have the format YYYY-MM-DD.\n"
      ]
    },
    {
      "cell_type": "markdown",
      "metadata": {
        "id": "lQjXPQUX4SkQ"
      },
      "source": [
        "###**Part 1: Concatenate files into alldata.csv in the correct format**"
      ]
    },
    {
      "cell_type": "code",
      "metadata": {
        "colab": {
          "base_uri": "https://localhost:8080/"
        },
        "id": "aulxUhKva3B2",
        "outputId": "d2b7d00a-0ee9-46e4-c079-3fdb2940b991"
      },
      "source": [
        "from google.colab import drive\n",
        "drive.mount('/content/drive')"
      ],
      "execution_count": 1,
      "outputs": [
        {
          "output_type": "stream",
          "text": [
            "Mounted at /content/drive\n"
          ],
          "name": "stdout"
        }
      ]
    },
    {
      "cell_type": "code",
      "metadata": {
        "id": "r9p19SUJoMti"
      },
      "source": [
        "from datetime import datetime\n",
        "import pandas as pd\n",
        "import numpy as np\n",
        "import os\n"
      ],
      "execution_count": 2,
      "outputs": []
    },
    {
      "cell_type": "code",
      "metadata": {
        "colab": {
          "base_uri": "https://localhost:8080/"
        },
        "id": "tszvonFubGUK",
        "outputId": "b90b6e8e-7c14-41a6-f58f-caf9f4a2b979"
      },
      "source": [
        "start = datetime.now()\n",
        "if not os.path.isfile('alldata.csv'):\n",
        "    # Create a file 'alldata.csv' before reading it\n",
        "    # Read all the individual source files in netflix dataset and store them in one big file('alldata.csv')\n",
        "    data = open('alldata.csv', mode='w')\n",
        "    \n",
        "    row = list()\n",
        "    files = ['/content/drive/My Drive/netflix/combined_data_1.txt','/content/drive/My Drive/netflix/combined_data_2.txt', \n",
        "           '/content/drive/My Drive/netflix/combined_data_3.txt','/content/drive/My Drive/netflix/combined_data_4.txt']\n",
        "    for file in files:\n",
        "        print(\"Reading ratings from {}...\".format(file))\n",
        "        with open(file) as f:\n",
        "            for line in f: \n",
        "                del row[:] \n",
        "                line = line.strip()\n",
        "                if line.endswith(':'):\n",
        "                    # These are ratings for this movie, until another movie appears in the file.\n",
        "                    movie_id = line.replace(':', '')\n",
        "                else:\n",
        "                    row = [x for x in line.split(',')]\n",
        "                    row.insert(0, movie_id)\n",
        "                    data.write(','.join(row))\n",
        "                    data.write('\\n')\n",
        "    data.close()\n",
        "print('Time taken :', datetime.now() - start)"
      ],
      "execution_count": 3,
      "outputs": [
        {
          "output_type": "stream",
          "text": [
            "Reading ratings from /content/drive/My Drive/netflix/combined_data_1.txt...\n",
            "Reading ratings from /content/drive/My Drive/netflix/combined_data_2.txt...\n",
            "Reading ratings from /content/drive/My Drive/netflix/combined_data_3.txt...\n",
            "Reading ratings from /content/drive/My Drive/netflix/combined_data_4.txt...\n",
            "Time taken : 0:03:30.823423\n"
          ],
          "name": "stdout"
        }
      ]
    }
  ]
}